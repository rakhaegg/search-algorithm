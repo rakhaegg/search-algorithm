{
  "nbformat": 4,
  "nbformat_minor": 0,
  "metadata": {
    "colab": {
      "name": "AStarAlgorithm.ipynb",
      "provenance": [],
      "collapsed_sections": [],
      "authorship_tag": "ABX9TyP0bjg23+LXS+jxH2tCwC1S"
    },
    "kernelspec": {
      "name": "python3",
      "display_name": "Python 3"
    },
    "language_info": {
      "name": "python"
    }
  },
  "cells": [
    {
      "cell_type": "code",
      "execution_count": 1,
      "metadata": {
        "colab": {
          "base_uri": "https://localhost:8080/"
        },
        "id": "GqH9CSECAfCj",
        "outputId": "fce2500f-376a-4e23-c80a-334bdfd43b8b"
      },
      "outputs": [
        {
          "output_type": "stream",
          "name": "stdout",
          "text": [
            "{'Arad': {'Zerind': 75, 'Sibiu': 140, 'Timisoara': 118}, 'Zerind': {'Oradea': 71}, 'Timisoara': {'Lugoj': 111}, 'Sibiu': {'Fagaras': 99, 'Rimminicu Vilcea': 80}, 'Oradea': {'Sibiu': 151}, 'Lugoj': {'Mehadia': 70}, 'Mehadia': {'Drobeta': 75}, 'Drobeta': {'Craiova': 120}, 'Craiova': {'Pitesti': 138}, 'Rimminicu Vilcea': {'Craiova': 146, 'Pitesti': 97}, 'Pitesti': {'Bucharest': 101}, 'Fagaras': {'Bucharest': 211}, 'Bucharest': {'Bucharest': 0}}\n"
          ]
        }
      ],
      "source": [
        "problem_a_star = {\n",
        "    'Arad' :  {\n",
        "              'Zerind' : 75,\n",
        "              'Sibiu' : 140,\n",
        "              'Timisoara' : 118\n",
        "              },\n",
        "    'Zerind' : \n",
        "                {\n",
        "                'Oradea' : 71\n",
        "              },\n",
        "    'Timisoara' : \n",
        "                   \n",
        "                   {\n",
        "                'Lugoj' : 111\n",
        "                },\n",
        "    'Sibiu' : \n",
        "               {\n",
        "        'Fagaras' : 99,\n",
        "        'Rimminicu Vilcea' : 80\n",
        "    },\n",
        "    'Oradea' : \n",
        "                {\n",
        "        'Sibiu' : 151\n",
        "    },\n",
        "    'Lugoj' : \n",
        "               {\n",
        "        'Mehadia' : 70\n",
        "    },\n",
        "    'Mehadia' :\n",
        "                {\n",
        "        'Drobeta' : 75\n",
        "    },\n",
        "    'Drobeta' :\n",
        "                {\n",
        "        'Craiova' : 120\n",
        "    },\n",
        "    'Craiova' : \n",
        "                 {\n",
        "        'Pitesti' : 138\n",
        "    },\n",
        "    'Rimminicu Vilcea' :\n",
        "                         {\n",
        "      'Craiova':146,\n",
        "      'Pitesti':97\n",
        "    },\n",
        "    'Pitesti' : \n",
        "                 {\n",
        "        'Bucharest' : 101\n",
        "    },\n",
        "    'Fagaras' :\n",
        "                 {\n",
        "      'Bucharest' : 211\n",
        "    },\n",
        "    'Bucharest' : {\n",
        "      'Bucharest' : 0 \n",
        "    }\n",
        "}\n",
        "print(problem_a_star)"
      ]
    },
    {
      "cell_type": "code",
      "source": [
        "heuristic_value = {\n",
        "    'Arad' : 366,\n",
        "    'Zerind' :374 ,\n",
        "    'Timisoara' :329 ,\n",
        "    'Sibiu' :253 ,\n",
        "    'Oradea' : 380,\n",
        "    'Lugoj' :244 ,\n",
        "    'Mehadia' :241 ,\n",
        "    'Drobeta' :242 ,\n",
        "    'Craiova' :160 ,\n",
        "    'Rimminicu Vilcea' :193 ,\n",
        "    'Pitesti' : 100,\n",
        "    'Fagaras' : 176,\n",
        "    'Bucharest': 0\n",
        "}\n",
        "print(heuristic_value)"
      ],
      "metadata": {
        "colab": {
          "base_uri": "https://localhost:8080/"
        },
        "id": "UPNnOpqHAr-t",
        "outputId": "d4d12519-6617-4856-c3f3-7bdbc26c6e29"
      },
      "execution_count": 2,
      "outputs": [
        {
          "output_type": "stream",
          "name": "stdout",
          "text": [
            "{'Arad': 366, 'Zerind': 374, 'Timisoara': 329, 'Sibiu': 253, 'Oradea': 380, 'Lugoj': 244, 'Mehadia': 241, 'Drobeta': 242, 'Craiova': 160, 'Rimminicu Vilcea': 193, 'Pitesti': 100, 'Fagaras': 176, 'Bucharest': 0}\n"
          ]
        }
      ]
    },
    {
      "cell_type": "code",
      "source": [
        "class State:\n",
        "  def __init__(self , state , distance=None , phi=None , h=None , f=0 , g=0):\n",
        "    self.state = state\n",
        "    self.distance = distance\n",
        "    self.phi = phi\n",
        "    self.next = None\n",
        "    self.h = h\n",
        "    self.f = f\n",
        "    self.g = g\n",
        "class LinkState:\n",
        "  def __init__(self):\n",
        "    self.head = None\n",
        "  def insertState(self , state , h , distance=0):\n",
        "    newState = State(state=state  , distance = distance,h=h)\n",
        "    if(self.head):\n",
        "      current = self.head\n",
        "      while(current.next):\n",
        "        current = current.next\n",
        "      current.next = newState\n",
        "    else:\n",
        "      self.head = newState\n",
        "  def printState(self):\n",
        "    current = self.head\n",
        "    while current:\n",
        "      print(\"NODE : \" , current.state)\n",
        "      print(\"Distance : \" , current.distance)\n",
        "      print(\"Heuristic : \" , current.h)\n",
        "      current = current.next"
      ],
      "metadata": {
        "id": "mR4inBQtA6CV"
      },
      "execution_count": 49,
      "outputs": []
    },
    {
      "cell_type": "code",
      "source": [
        "from queue import PriorityQueue"
      ],
      "metadata": {
        "id": "IYtrHruiKx_i"
      },
      "execution_count": 6,
      "outputs": []
    },
    {
      "cell_type": "code",
      "source": [
        "def set_head(state , form_state):\n",
        "  for x in form_state.keys():\n",
        "    if x == state:\n",
        "      return form_state[x].head\n",
        "\n",
        "def get(state):\n",
        "  for x in heuristic_value.keys():\n",
        "    if x == state:\n",
        "      return heuristic_value[x]\n",
        "def check_state_in_explored(state , explored):\n",
        "  for x in explored:\n",
        "    if x.state == state:\n",
        "      return False\n",
        "  return True\n",
        "def do_a_star_algorithm(problem , source , goal):\n",
        "  form_state = {}\n",
        "  for x in problem.keys():\n",
        "    linked_list = LinkState()\n",
        "    linked_list.insertState(x , h=get(x))\n",
        "    for y in problem[x]:\n",
        "      linked_list.insertState(y , h=get(y) , distance=problem[x][y])\n",
        "    form_state[x] = linked_list\n",
        "  \n",
        "  q = PriorityQueue()\n",
        "  explored = []\n",
        "\n",
        "  for x in form_state.keys():\n",
        "    if x == source:\n",
        "      form_state[x].head.f = form_state[x].head.h + 0\n",
        "      form_state[x].head.g = 0\n",
        "      explored.append(form_state[x].head)\n",
        "      q.put((form_state[x].head.f , form_state[x].head))\n",
        "      # q.put(())      \n",
        "  \n",
        "  count = 0\n",
        "  while q.qsize() != 0 :\n",
        "    u = q.get()\n",
        "    # print(\"Froniter : \" , u[1].state)\n",
        "    # print(\"G : \" , u[1].g)\n",
        "    # print()\n",
        "    v = set_head(u[1].state , form_state)\n",
        "    if count == 4 : \n",
        "      break\n",
        "    count = count+1\n",
        "    while(v):\n",
        "      status = check_state_in_explored(v.state , explored)\n",
        "      if status : \n",
        "        v.phi = u[1]\n",
        "        # print(\"Child Node : \" , v.state)\n",
        "        # print(\"Distance : \" , v.distance)\n",
        "        # print(\"Heuristic : \" , v.h)\n",
        "        v.g = (u[1].g + v.distance)\n",
        "        v.f = (u[1].g +v.distance) + v.h\n",
        "        explored.append(v)\n",
        "        if v.state == goal:\n",
        "          return explored\n",
        "        q.put((v.f , v))\n",
        "      v = v.next  "
      ],
      "metadata": {
        "id": "XbcN7VbJBSy1"
      },
      "execution_count": 66,
      "outputs": []
    },
    {
      "cell_type": "code",
      "source": [
        "solution = do_a_star_algorithm(problem_a_star , 'Arad' , 'Bucharest')\n",
        "result = solution[-1]\n",
        "while result:\n",
        "  print(result.state)\n",
        "  result = result.phi"
      ],
      "metadata": {
        "colab": {
          "base_uri": "https://localhost:8080/"
        },
        "id": "ajNR4hYgBcvS",
        "outputId": "e2f0815e-b786-4ad7-b918-4e7d2eb3bbd6"
      },
      "execution_count": 67,
      "outputs": [
        {
          "output_type": "stream",
          "name": "stdout",
          "text": [
            "Bucharest\n",
            "Fagaras\n",
            "Sibiu\n",
            "Arad\n"
          ]
        }
      ]
    },
    {
      "cell_type": "code",
      "source": [
        ""
      ],
      "metadata": {
        "id": "otCKmMTyXBs4"
      },
      "execution_count": null,
      "outputs": []
    }
  ]
}