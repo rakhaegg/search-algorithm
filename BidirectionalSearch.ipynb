{
  "nbformat": 4,
  "nbformat_minor": 0,
  "metadata": {
    "colab": {
      "name": "BidirectionalSearch.ipynb",
      "provenance": [],
      "collapsed_sections": [],
      "authorship_tag": "ABX9TyNGDtPpE43U2jDCDZtn04zp"
    },
    "kernelspec": {
      "name": "python3",
      "display_name": "Python 3"
    },
    "language_info": {
      "name": "python"
    }
  },
  "cells": [
    {
      "cell_type": "code",
      "execution_count": 7,
      "metadata": {
        "colab": {
          "base_uri": "https://localhost:8080/"
        },
        "id": "0brc0FlKpX3Q",
        "outputId": "d2b2c49a-5820-44eb-9a83-ce38ae7b98f0"
      },
      "outputs": [
        {
          "output_type": "stream",
          "name": "stdout",
          "text": [
            "{'Arad': ['Zerind', 'Sibiu', 'Timisoara'], 'Zerind': ['Oradea'], 'Timisoara': ['Lugoj'], 'Sibiu': ['Fagaras', 'Rimminicu Vilcea'], 'Oradea': ['Sibiu'], 'Lugoj': ['Mehadia'], 'Mehadia': ['Drobeta'], 'Drobeta': ['Craiova'], 'Craiova': ['Pitesti'], 'Rimminicu Vilcea': ['Craiova', 'Pitesti'], 'Pitesti': ['Bucharest'], 'Fagaras': ['Bucharest'], 'Bucharest': ['Bucharest']}\n"
          ]
        }
      ],
      "source": [
        "problem_direct = {\n",
        "       'Arad' : ['Zerind' , 'Sibiu' , 'Timisoara'],\n",
        "    'Zerind' : ['Oradea'],\n",
        "    'Timisoara' : ['Lugoj'],\n",
        "    'Sibiu' : ['Fagaras' , 'Rimminicu Vilcea'],\n",
        "    'Oradea' : ['Sibiu'],\n",
        "    'Lugoj' : ['Mehadia'],\n",
        "    'Mehadia' :['Drobeta'],\n",
        "    'Drobeta' :['Craiova'],\n",
        "    'Craiova' : ['Pitesti'],\n",
        "    'Rimminicu Vilcea' : ['Craiova' , 'Pitesti'],\n",
        "    'Pitesti' : ['Bucharest'],\n",
        "    'Fagaras' : ['Bucharest'],\n",
        "    'Bucharest' : ['Bucharest']\n",
        "}\n",
        "print(problem_direct)"
      ]
    },
    {
      "cell_type": "code",
      "source": [
        "problem_direct_second = {\n",
        "  \n",
        "    '0' : ['5' , '1' , '2' , '11'],\n",
        "  \n",
        "    '5' : ['0', '6' , '7' ],\n",
        "    '1' : ['0' , '7' , '3'],\n",
        "    '2' : ['0' ,'10' , '12'],\n",
        "    '11' : ['0'],\n",
        "    \n",
        "\n",
        "    '7' : ['5' ,'1' , '8'],\n",
        "    '3' : ['9' ,'1', '4'],\n",
        "    '10' : ['2'],\n",
        "    '12' : ['2'],\n",
        "    '6' : ['5'],\n",
        "    '8' : ['7'],\n",
        "    '9' : ['3'],\n",
        "    '4' : ['3']\n",
        "}\n",
        "print(problem_direct_second)"
      ],
      "metadata": {
        "colab": {
          "base_uri": "https://localhost:8080/"
        },
        "id": "61v1eIj2wep0",
        "outputId": "caace089-540f-453a-d758-658ebcb84b98"
      },
      "execution_count": 8,
      "outputs": [
        {
          "output_type": "stream",
          "name": "stdout",
          "text": [
            "{'0': ['5', '1', '2', '11'], '5': ['0', '6', '7'], '1': ['0', '7', '3'], '2': ['0', '10', '12'], '11': ['0'], '7': ['5', '1', '8'], '3': ['9', '1', '4'], '10': ['2'], '12': ['2'], '6': ['5'], '8': ['7'], '9': ['3'], '4': ['3']}\n"
          ]
        }
      ]
    },
    {
      "cell_type": "code",
      "source": [
        "class State:\n",
        "  def __init__(self , state , phi=None ):\n",
        "    self.state = state\n",
        "    self.phi = phi\n",
        "    self.next = None\n",
        "\n",
        "class LinkedState:\n",
        "  def __init__(self):\n",
        "    self.head = None\n",
        "  def insertData(self , state):\n",
        "    newState = State(state)\n",
        "    if(self.head):\n",
        "      current = self.head\n",
        "      while(current.next):\n",
        "        current = current.next\n",
        "      current.next = newState\n",
        "    else:\n",
        "      self.head = newState\n",
        "  def printAllState(self):\n",
        "    current = self.head\n",
        "    while(current):\n",
        "      print(current.state)\n",
        "      current = current.next\n",
        "    "
      ],
      "metadata": {
        "id": "J8WeockcrlSH"
      },
      "execution_count": 9,
      "outputs": []
    },
    {
      "cell_type": "code",
      "source": [
        "from queue import Queue"
      ],
      "metadata": {
        "id": "qdcSmVE80Lrq"
      },
      "execution_count": 10,
      "outputs": []
    },
    {
      "cell_type": "code",
      "source": [
        "def do_bidirect(problem , source, goal):\n",
        "  form_state = {}\n",
        "  \n",
        "  for x in problem.keys():\n",
        "    list_state = LinkedState()\n",
        "    list_state.insertData(x)\n",
        "    for y in problem[x]:\n",
        "      list_state.insertData(y)\n",
        "    form_state[x] = list_state\n",
        "  \n",
        "  goal_state = Queue()\n",
        "  source_state = Queue()\n",
        "\n",
        "  explored_goal = []\n",
        "  explored_source = []\n",
        "  # for x in form_state.keys():\n",
        "  #   print(\"Parent Node : \" , x)\n",
        "  #   print(\"Child Node  : \" )\n",
        "  #   print(form_state[x].printAllState())\n",
        "  #   print()\n",
        "  \n",
        "  \"\"\"\n",
        "  Set queue source and goal state\n",
        "  \"\"\"\n",
        "  statusKetemu = False\n",
        "  for x in form_state.keys():\n",
        "    if x == source :\n",
        "      source_state.put(form_state[x].head)\n",
        "      explored_source.append(form_state[x].head)\n",
        "    if x == goal:\n",
        "      goal_state.put(form_state[x].head)\n",
        "      explored_goal.append(form_state[x].head)\n",
        "  count = 0\n",
        "  while source_state.qsize() != 0 or goal_state.qsize() != 0 :\n",
        "    u_source = source_state.get()\n",
        "    u_goal = goal_state.get()\n",
        "    print(\"Frontier Source : \" ,u_source.state)\n",
        "    print(\"Frontier Goal : \" , u_goal.state)\n",
        "    u_node_source = None\n",
        "    u_node_goal = None\n",
        "    \n",
        "    if statusKetemu == True:\n",
        "      break\n",
        "    if count == 4:\n",
        "      break\n",
        "    count = count+1\n",
        "    for x in form_state.keys():\n",
        "      if x == u_source.state:\n",
        "        u_node_source = form_state[x].head.next\n",
        "      elif x == u_goal.state:\n",
        "        u_node_goal = form_state[x].head.next\n",
        "\n",
        "    statu_source = False\n",
        "    statu_goal = False\n",
        "\n",
        "    while u_node_source or u_node_goal:\n",
        "      if u_node_source != None and u_node_goal != None:\n",
        "        if u_node_source.state == u_node_goal.state:\n",
        "          statusKetemu = True\n",
        "          u_node_source.phi = u_source\n",
        "          u_node_goal.phi = u_goal\n",
        "          explored_source.append(u_node_source)\n",
        "          explored_goal.append(u_node_goal)\n",
        "          print(\"Bertemu\")\n",
        "          return [explored_source,explored_goal]\n",
        "      if u_node_source != None:\n",
        "        tidakada = True\n",
        "        for xx in explored_source:\n",
        "          if xx.state == u_node_source.state:\n",
        "            tidakada = False\n",
        "            break\n",
        "        if tidakada:\n",
        "          print(\"Child Source : \" , u_node_source.state)\n",
        "          u_node_source.phi = u_source\n",
        "          source_state.put(u_node_source)\n",
        "          explored_source.append(u_node_source)\n",
        "          if u_node_source.next == None:\n",
        "            statu_source = True\n",
        "        u_node_source = u_node_source.next\n",
        "\n",
        "      if u_node_goal != None:\n",
        "        tidakada = True\n",
        "        for xx in explored_goal:\n",
        "          if xx.state == u_node_goal.state:\n",
        "            tidakada = False\n",
        "        if tidakada:\n",
        "          print(\"Child Goal : \" , u_node_goal.state)\n",
        "          u_node_goal.phi = u_goal\n",
        "          goal_state.put(u_node_goal)\n",
        "          explored_goal.append(u_node_goal)\n",
        "          if u_node_goal.next == None:\n",
        "            statu_goal = True\n",
        "        u_node_goal = u_node_goal.next\n",
        "\n",
        "     \n",
        "             \n",
        "      if statu_source and statu_goal:\n",
        "        print(\"Berhenti\")\n",
        "        break\n",
        "  \n",
        "    "
      ],
      "metadata": {
        "id": "Y4qZtbpos1ix"
      },
      "execution_count": 111,
      "outputs": []
    },
    {
      "cell_type": "code",
      "source": [
        "list_ketemu = do_bidirect(problem_direct_second  , '5' , '4')\n",
        "first = list_ketemu[0]\n",
        "second = list_ketemu[1]\n",
        "\n",
        "result = first[-1]\n",
        "result_second = second[-1]\n",
        "\n",
        "while result : \n",
        "  print(result.state)\n",
        "  result = result.phi\n",
        "while result_second:\n",
        "  print(result_second.state)\n",
        "  result_second = result_second.phi\n",
        "  \n",
        "\n"
      ],
      "metadata": {
        "colab": {
          "base_uri": "https://localhost:8080/"
        },
        "id": "NTBM5rz4zX9A",
        "outputId": "0827e987-d58d-4aa4-c1f1-a1713fd1bb8a"
      },
      "execution_count": 119,
      "outputs": [
        {
          "output_type": "stream",
          "name": "stdout",
          "text": [
            "Frontier Source :  5\n",
            "Frontier Goal :  4\n",
            "Child Source :  0\n",
            "Child Goal :  3\n",
            "Child Source :  6\n",
            "Child Source :  7\n",
            "Berhenti\n",
            "Frontier Source :  0\n",
            "Frontier Goal :  3\n",
            "Child Goal :  9\n",
            "Bertemu\n",
            "1\n",
            "0\n",
            "5\n",
            "1\n",
            "3\n",
            "4\n"
          ]
        }
      ]
    },
    {
      "cell_type": "code",
      "source": [
        ""
      ],
      "metadata": {
        "id": "08wHw7hU-HB3"
      },
      "execution_count": null,
      "outputs": []
    }
  ]
}