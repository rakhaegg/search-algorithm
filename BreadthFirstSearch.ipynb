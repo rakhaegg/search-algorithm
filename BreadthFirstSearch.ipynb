{
  "nbformat": 4,
  "nbformat_minor": 0,
  "metadata": {
    "colab": {
      "name": "BreadthFirstSearch.ipynb",
      "provenance": [],
      "collapsed_sections": [],
      "authorship_tag": "ABX9TyMIOdtJkvDGWMiq+kfK2b8y",
      "include_colab_link": true
    },
    "kernelspec": {
      "name": "python3",
      "display_name": "Python 3"
    },
    "language_info": {
      "name": "python"
    }
  },
  "cells": [
    {
      "cell_type": "markdown",
      "metadata": {
        "id": "view-in-github",
        "colab_type": "text"
      },
      "source": [
        "<a href=\"https://colab.research.google.com/github/rakhaegg/search-algorithm/blob/main/BreadthFirstSearch.ipynb\" target=\"_parent\"><img src=\"https://colab.research.google.com/assets/colab-badge.svg\" alt=\"Open In Colab\"/></a>"
      ]
    },
    {
      "cell_type": "code",
      "execution_count": 2,
      "metadata": {
        "colab": {
          "base_uri": "https://localhost:8080/"
        },
        "id": "D4DZMyXB8p2q",
        "outputId": "aab182b9-fb64-4038-bfd9-3942a4ebf268"
      },
      "outputs": [
        {
          "output_type": "stream",
          "name": "stdout",
          "text": [
            "{'Arad': ['Zerind', 'Sibiu', 'Timisoara'], 'Zerind': ['Oradea'], 'Timisoara': ['Lugoj'], 'Sibiu': ['Fagaras', 'Rimminicu Vilcea'], 'Oradea': ['Sibiu'], 'Lugoj': ['Mehadia'], 'Mehadia': ['Drobeta'], 'Drobeta': ['Craiova'], 'Craiova': ['Pitesti'], 'Rimminicu Vilcea': ['Craiova', 'Pitesti'], 'Pitesti': ['Bucharest'], 'Fagaras': ['Bucharest']}\n"
          ]
        }
      ],
      "source": [
        "problem_bfs = {\n",
        "    'Arad' : ['Zerind' , 'Sibiu' , 'Timisoara'],\n",
        "    'Zerind' : ['Oradea'],\n",
        "    'Timisoara' : ['Lugoj'],\n",
        "    'Sibiu' : ['Fagaras' , 'Rimminicu Vilcea'],\n",
        "    'Oradea' : ['Sibiu'],\n",
        "    'Lugoj' : ['Mehadia'],\n",
        "    'Mehadia' :['Drobeta'],\n",
        "    'Drobeta' :['Craiova'],\n",
        "    'Craiova' : ['Pitesti'],\n",
        "    'Rimminicu Vilcea' : ['Craiova' , 'Pitesti'],\n",
        "    'Pitesti' : ['Bucharest'],\n",
        "    'Fagaras' : ['Bucharest']\n",
        "}\n",
        "print(problem_bfs)"
      ]
    },
    {
      "cell_type": "code",
      "source": [
        "class State:\n",
        "  def __init__(self , state=None , cost=None , next=None):\n",
        "    self.state = state\n",
        "    self.cost = cost\n",
        "    self.next = None\n",
        "class Actions:\n",
        "  def __init__(self):\n",
        "    self.head = None\n",
        "  def insertState(self , state):\n",
        "    newState = State(state)\n",
        "    if(self.head):\n",
        "      current = self.head\n",
        "      while(current.next):\n",
        "        current = current.next\n",
        "      current.next = newState\n",
        "    else:\n",
        "      self.head = newState\n",
        "  def printAllState(self):\n",
        "    current = self.head\n",
        "    while(current):\n",
        "      print(\"STATE : \" , current.state)\n",
        "      current = current.next\n"
      ],
      "metadata": {
        "id": "DiqKWGjM_gli"
      },
      "execution_count": 15,
      "outputs": []
    },
    {
      "cell_type": "code",
      "source": [
        "from queue import Queue"
      ],
      "metadata": {
        "id": "CDjHRFn5H2dU"
      },
      "execution_count": 40,
      "outputs": []
    },
    {
      "cell_type": "code",
      "source": [
        "def bfs(problem , goal):\n",
        "  linkedList_problem = {}\n",
        "  for x in problem.keys():\n",
        "    form_state = Actions()\n",
        "    form_state.insertState(x)\n",
        "    for y in problem[x]:\n",
        "      form_state.insertState(y)\n",
        "    linkedList_problem[x] = form_state\n",
        "\n",
        "  frontier = Queue()\n",
        "  print(linkedList_problem.get(goal))\n",
        "  if linkedList_problem.get(goal) != None:\n",
        "    if linkedList_problem[goal].head.state == goal :\n",
        "      return goal \n",
        "    else :\n",
        "      frontier.put(linkedList_problem[goal].head)\n",
        "  else:\n",
        "      print(\"TEST3\")\n",
        "      \n",
        "      frontier.put(list(linkedList_problem.items())[0][1].head)\n",
        "\n",
        "  explored = []\n",
        "  while not frontier.empty():\n",
        "    node = frontier.get()\n",
        "    explored.append(node.state)\n",
        "    \n",
        "    print(node.state)\n"
      ],
      "metadata": {
        "id": "dZAYgAbLEXVa"
      },
      "execution_count": 115,
      "outputs": []
    },
    {
      "cell_type": "code",
      "source": [
        "goal_test_first = \"Arad\"\n",
        "goal_test_second = \"Bucharest\"\n",
        "solution_first = bfs(problem_bfs , \"Arad\")"
      ],
      "metadata": {
        "id": "vCrG-vkaGKXp"
      },
      "execution_count": 77,
      "outputs": []
    },
    {
      "cell_type": "code",
      "source": [
        "print(solution_first)"
      ],
      "metadata": {
        "colab": {
          "base_uri": "https://localhost:8080/"
        },
        "id": "Dk7YpypNGMTc",
        "outputId": "d8ef5372-b952-4ec8-c42f-d56a768dfb2f"
      },
      "execution_count": 71,
      "outputs": [
        {
          "output_type": "stream",
          "name": "stdout",
          "text": [
            "Arad\n"
          ]
        }
      ]
    },
    {
      "cell_type": "code",
      "source": [
        "solution_second = bfs(problem_bfs , goal_test_second)\n"
      ],
      "metadata": {
        "colab": {
          "base_uri": "https://localhost:8080/"
        },
        "id": "Iyzn7wM3Hr1z",
        "outputId": "ae92b204-6ede-447d-d188-acfcf64e52de"
      },
      "execution_count": 116,
      "outputs": [
        {
          "output_type": "stream",
          "name": "stdout",
          "text": [
            "None\n",
            "TEST3\n",
            "Arad\n"
          ]
        }
      ]
    }
  ]
}