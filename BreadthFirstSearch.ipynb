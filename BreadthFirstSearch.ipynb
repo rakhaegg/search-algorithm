{
  "nbformat": 4,
  "nbformat_minor": 0,
  "metadata": {
    "colab": {
      "name": "BreadthFirstSearch.ipynb",
      "provenance": [],
      "collapsed_sections": [],
      "authorship_tag": "ABX9TyOpSr7Jp0k7LAdBOE7TAJko",
      "include_colab_link": true
    },
    "kernelspec": {
      "name": "python3",
      "display_name": "Python 3"
    },
    "language_info": {
      "name": "python"
    }
  },
  "cells": [
    {
      "cell_type": "markdown",
      "metadata": {
        "id": "view-in-github",
        "colab_type": "text"
      },
      "source": [
        "<a href=\"https://colab.research.google.com/github/rakhaegg/search-algorithm/blob/main/BreadthFirstSearch.ipynb\" target=\"_parent\"><img src=\"https://colab.research.google.com/assets/colab-badge.svg\" alt=\"Open In Colab\"/></a>"
      ]
    },
    {
      "cell_type": "code",
      "execution_count": 1,
      "metadata": {
        "colab": {
          "base_uri": "https://localhost:8080/"
        },
        "id": "D4DZMyXB8p2q",
        "outputId": "2f31f195-bafd-4c3a-d5a1-e97986c311cd"
      },
      "outputs": [
        {
          "output_type": "stream",
          "name": "stdout",
          "text": [
            "{'Arad': ['Zerind', 'Sibiu', 'Timisoara'], 'Zerind': ['Oradea'], 'Timisoara': ['Lugoj'], 'Sibiu': ['Fagaras', 'Rimminicu Vilcea'], 'Oradea': ['Sibiu'], 'Lugoj': ['Mehadia'], 'Mehadia': ['Drobeta'], 'Drobeta': ['Craiova'], 'Craiova': ['Pitesti'], 'Rimminicu Vilcea': ['Craiova', 'Pitesti'], 'Pitesti': ['Bucharest'], 'Fagaras': ['Bucharest'], 'Bucharest': ['Bucharest']}\n"
          ]
        }
      ],
      "source": [
        "problem_bfs = {\n",
        "    'Arad' : ['Zerind' , 'Sibiu' , 'Timisoara'],\n",
        "    'Zerind' : ['Oradea'],\n",
        "    'Timisoara' : ['Lugoj'],\n",
        "    'Sibiu' : ['Fagaras' , 'Rimminicu Vilcea'],\n",
        "    'Oradea' : ['Sibiu'],\n",
        "    'Lugoj' : ['Mehadia'],\n",
        "    'Mehadia' :['Drobeta'],\n",
        "    'Drobeta' :['Craiova'],\n",
        "    'Craiova' : ['Pitesti'],\n",
        "    'Rimminicu Vilcea' : ['Craiova' , 'Pitesti'],\n",
        "    'Pitesti' : ['Bucharest'],\n",
        "    'Fagaras' : ['Bucharest'],\n",
        "    'Bucharest' : ['Bucharest']\n",
        "}\n",
        "print(problem_bfs)"
      ]
    },
    {
      "cell_type": "code",
      "source": [
        "class State:\n",
        "  def __init__(self , state=None , cost=None , next=None , phi=None):\n",
        "    self.state = state\n",
        "    self.cost = cost\n",
        "    self.next = None\n",
        "    self.phi = phi\n",
        "class Actions:\n",
        "  def __init__(self):\n",
        "    self.head = None\n",
        "  def insertState(self , state):\n",
        "    newState = State(state)\n",
        "    if(self.head):\n",
        "      current = self.head\n",
        "      while(current.next):\n",
        "        current = current.next\n",
        "      current.next = newState\n",
        "    else:\n",
        "      self.head = newState\n",
        "  def printAllState(self):\n",
        "    current = self.head\n",
        "    while(current):\n",
        "      current = current.next\n"
      ],
      "metadata": {
        "id": "DiqKWGjM_gli"
      },
      "execution_count": 2,
      "outputs": []
    },
    {
      "cell_type": "code",
      "source": [
        "from queue import Queue"
      ],
      "metadata": {
        "id": "CDjHRFn5H2dU"
      },
      "execution_count": 3,
      "outputs": []
    },
    {
      "cell_type": "code",
      "source": [
        "\n",
        "def bfs(problem , goal):\n",
        "  linkedList_problem = {}\n",
        "  for x in problem.keys():\n",
        "    form_state = Actions()\n",
        "    form_state.insertState(x)\n",
        "    for y in problem[x]:\n",
        "      form_state.insertState(y)\n",
        "    linkedList_problem[x] = form_state\n",
        "\n",
        "  frontier = Queue()\n",
        "  \n",
        "  tempNode = list(linkedList_problem.items())[0][1].head\n",
        "  tempNode.phi = None\n",
        "  frontier.put(tempNode)\n",
        "\n",
        "  explored = []\n",
        "  for x in linkedList_problem.keys():\n",
        "    linkedList_problem[x].printAllState()\n",
        "\n",
        "  while frontier.qsize() != 0:\n",
        "    node = frontier.get()\n",
        "    u = None\n",
        "    for x in linkedList_problem.keys():\n",
        "      if linkedList_problem[x].head.state == node.state:\n",
        "        explored.append(node) \n",
        "        list_actions = linkedList_problem[x].head.next\n",
        "\n",
        "\n",
        "    while(list_actions):\n",
        "        if list_actions not in explored :\n",
        "            if list_actions.state == goal :\n",
        "              return  explored\n",
        "            list_actions.phi = node\n",
        "            frontier.put(list_actions)\n",
        "        list_actions = list_actions.next\n"
      ],
      "metadata": {
        "id": "dZAYgAbLEXVa"
      },
      "execution_count": 4,
      "outputs": []
    },
    {
      "cell_type": "code",
      "source": [
        "goal_test_first = \"Arad\"\n",
        "goal_test_second = \"Bucharest\"\n",
        "solution_first = bfs(problem_bfs , \"Arad\")"
      ],
      "metadata": {
        "id": "vCrG-vkaGKXp"
      },
      "execution_count": 5,
      "outputs": []
    },
    {
      "cell_type": "code",
      "source": [
        "print(solution_first)"
      ],
      "metadata": {
        "colab": {
          "base_uri": "https://localhost:8080/"
        },
        "id": "Dk7YpypNGMTc",
        "outputId": "7289af81-0a4c-4dd7-ce6b-e4876ca17905"
      },
      "execution_count": 6,
      "outputs": [
        {
          "output_type": "stream",
          "name": "stdout",
          "text": [
            "None\n"
          ]
        }
      ]
    },
    {
      "cell_type": "code",
      "source": [
        "solution_second = bfs(problem_bfs , goal_test_second)\n",
        "solution = solution_second[-1]\n",
        "while(solution):\n",
        "  print(solution.state)\n",
        "  solution = solution.phi"
      ],
      "metadata": {
        "colab": {
          "base_uri": "https://localhost:8080/"
        },
        "id": "Iyzn7wM3Hr1z",
        "outputId": "450b0b59-dc9d-421e-93d8-01b7681bd962"
      },
      "execution_count": 7,
      "outputs": [
        {
          "output_type": "stream",
          "name": "stdout",
          "text": [
            "Fagaras\n",
            "Sibiu\n",
            "Arad\n"
          ]
        }
      ]
    },
    {
      "cell_type": "markdown",
      "source": [
        "**State Bucharest ketemu ketika kedalamannya adalah 3**"
      ],
      "metadata": {
        "id": "ScYKNj1VYbqm"
      }
    },
    {
      "cell_type": "code",
      "source": [
        "goal_test_third = \"Oradea\"\n",
        "solution_third = bfs(problem_bfs , goal_test_third)\n"
      ],
      "metadata": {
        "id": "SNh0vCqRZlsc"
      },
      "execution_count": 8,
      "outputs": []
    },
    {
      "cell_type": "code",
      "source": [
        "solution_third = solution_third[-1]\n",
        "while(solution_third):\n",
        "  print(solution_third.state)\n",
        "  solution_third = solution_third.phi"
      ],
      "metadata": {
        "colab": {
          "base_uri": "https://localhost:8080/"
        },
        "id": "H7LylXzfEl8D",
        "outputId": "ee0b81e7-f462-4e06-be03-a3ce1d56236a"
      },
      "execution_count": 9,
      "outputs": [
        {
          "output_type": "stream",
          "name": "stdout",
          "text": [
            "Zerind\n",
            "Arad\n"
          ]
        }
      ]
    },
    {
      "cell_type": "markdown",
      "source": [
        "# **Matrix Representation**\n",
        "# **Map State**"
      ],
      "metadata": {
        "id": "6tXv891KHFHz"
      }
    },
    {
      "cell_type": "code",
      "source": [
        "import numpy as np"
      ],
      "metadata": {
        "id": "8Fp4JELCKTiA"
      },
      "execution_count": 10,
      "outputs": []
    },
    {
      "cell_type": "code",
      "source": [
        "matrix = [x for x in problem_bfs.keys()]\n",
        "print(matrix)"
      ],
      "metadata": {
        "colab": {
          "base_uri": "https://localhost:8080/"
        },
        "id": "6R1MuXt-m7Gt",
        "outputId": "0513faa1-2c87-4e47-a256-dbae53081003"
      },
      "execution_count": 11,
      "outputs": [
        {
          "output_type": "stream",
          "name": "stdout",
          "text": [
            "['Arad', 'Zerind', 'Timisoara', 'Sibiu', 'Oradea', 'Lugoj', 'Mehadia', 'Drobeta', 'Craiova', 'Rimminicu Vilcea', 'Pitesti', 'Fagaras', 'Bucharest']\n"
          ]
        }
      ]
    },
    {
      "cell_type": "code",
      "source": [
        "class State:\n",
        "  def __init__(self , state=None , cost=None , next=None , phi=None , valueMatrix=None):\n",
        "    self.state = state\n",
        "    self.cost = cost\n",
        "    self.next = None\n",
        "    self.phi = phi\n",
        "    self.valueMatrix = valueMatrix"
      ],
      "metadata": {
        "id": "YrUQyNxDKaZ9"
      },
      "execution_count": 12,
      "outputs": []
    },
    {
      "cell_type": "code",
      "source": [
        "def bfs_matrix(problem , goal , source):\n",
        "  matrix = [[x for x in problem.keys()] for y in range(len(problem))] \n",
        "  size = len(matrix)\n",
        "  count_row = 0\n",
        "  \n",
        "  for x in problem.keys():\n",
        "    for y in problem[x]:\n",
        "      for column in range(size):\n",
        "        if matrix[count_row][column] == y :\n",
        "          matrix[count_row][column] = State(valueMatrix=1 , state=y)\n",
        "    for dif in range(size):\n",
        "      if type(matrix[count_row][dif]) == str:\n",
        "        matrix[count_row][dif] = State(valueMatrix=0 , state=\"Kosong\")\n",
        "\n",
        "    count_row = count_row + 1\n",
        "    \n",
        "  matrix_numpy = np.array(matrix)\n",
        "  all_node = [x for x in problem.keys()]\n",
        "  q = Queue()\n",
        "  for search in all_node:\n",
        "    if search == source:\n",
        "      q.put(State(state=source , phi=None))\n",
        "      break\n",
        "  if q.empty():\n",
        "    return \"False Sourece Node\"\n",
        "  \n",
        "  explored = []\n",
        "\n",
        "  status = False\n",
        "  while q.qsize() != 0:\n",
        "    \n",
        "    u = q.get() # Frontier\n",
        "    count = 0 # To get position start row\n",
        "    print(u.state)\n",
        "    for search in all_node:\n",
        "      if u.state == search:\n",
        "        count = count\n",
        "        break\n",
        "      count = count +1\n",
        "        \n",
        "    for x in range(size):\n",
        "      if x == count :\n",
        "        for y in range(size):\n",
        "          if matrix_numpy[x][y] not in explored and matrix_numpy[x][y].valueMatrix == 1:\n",
        "            if matrix_numpy[x][y].state == goal:\n",
        "              matrix_numpy[x][y].phi = u\n",
        "              explored.append(matrix_numpy[x][y])\n",
        "              return explored\n",
        "            print(\"Explore : \" , matrix_numpy[x][y].state)\n",
        "            matrix_numpy[x][y].phi = u\n",
        "            explored.append(matrix_numpy[x][y])\n",
        "            q.put(matrix_numpy[x][y])\n"
      ],
      "metadata": {
        "id": "9kh0Dfk_9hEt"
      },
      "execution_count": 101,
      "outputs": []
    },
    {
      "cell_type": "code",
      "source": [
        "result_solution = bfs_matrix(problem_bfs  , 'Bucharest' , 'Arad')\n",
        "print()\n",
        "if result_solution == None:\n",
        "  print(\"There is no solution\")\n",
        "else:\n",
        "  last = result_solution[-1]\n",
        "  while(last):\n",
        "    print(last.state)\n",
        "    last = last.phi"
      ],
      "metadata": {
        "colab": {
          "base_uri": "https://localhost:8080/"
        },
        "id": "MUKkiTjL_hu5",
        "outputId": "57f77f18-fc9e-470a-c5e0-f4c6b22c32d8"
      },
      "execution_count": 103,
      "outputs": [
        {
          "output_type": "stream",
          "name": "stdout",
          "text": [
            "Arad\n",
            "Explore :  Zerind\n",
            "Explore :  Timisoara\n",
            "Explore :  Sibiu\n",
            "Zerind\n",
            "Explore :  Oradea\n",
            "Timisoara\n",
            "Explore :  Lugoj\n",
            "Sibiu\n",
            "Explore :  Rimminicu Vilcea\n",
            "Explore :  Fagaras\n",
            "Oradea\n",
            "Explore :  Sibiu\n",
            "Lugoj\n",
            "Explore :  Mehadia\n",
            "Rimminicu Vilcea\n",
            "Explore :  Craiova\n",
            "Explore :  Pitesti\n",
            "Fagaras\n",
            "\n",
            "Bucharest\n",
            "Fagaras\n",
            "Sibiu\n",
            "Arad\n"
          ]
        }
      ]
    },
    {
      "cell_type": "markdown",
      "source": [
        "# **Kesimpulan Algoritma Breadth-first Search untuk mendapatkan node yang ditujuan dengan cara mengexplore node yang berhubungan dengan node parent**\n",
        "**Worst Case adalah ketika node yang dicari berada depth atau kedalaman yang jauh dari parent sourcenya**"
      ],
      "metadata": {
        "id": "q1XBrWjoaldz"
      }
    }
  ]
}