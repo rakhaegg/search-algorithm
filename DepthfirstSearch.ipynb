{
  "nbformat": 4,
  "nbformat_minor": 0,
  "metadata": {
    "colab": {
      "name": "DepthfirstSearch.ipynb",
      "provenance": [],
      "collapsed_sections": [],
      "authorship_tag": "ABX9TyOghHtLUZrp5gNCmkSwf3+o"
    },
    "kernelspec": {
      "name": "python3",
      "display_name": "Python 3"
    },
    "language_info": {
      "name": "python"
    }
  },
  "cells": [
    {
      "cell_type": "code",
      "execution_count": 1,
      "metadata": {
        "colab": {
          "base_uri": "https://localhost:8080/"
        },
        "id": "G4nOOR3EbtCt",
        "outputId": "8aaea5fd-1f9b-45d3-fb2d-25cb82e08957"
      },
      "outputs": [
        {
          "output_type": "stream",
          "name": "stdout",
          "text": [
            "{'Arad': ['Zerind', 'Sibiu', 'Timisoara'], 'Zerind': ['Oradea'], 'Timisoara': ['Lugoj'], 'Sibiu': ['Fagaras', 'Rimminicu Vilcea'], 'Oradea': ['Sibiu'], 'Lugoj': ['Mehadia'], 'Mehadia': ['Drobeta'], 'Drobeta': ['Craiova'], 'Craiova': ['Pitesti'], 'Rimminicu Vilcea': ['Craiova', 'Pitesti'], 'Pitesti': ['Bucharest'], 'Fagaras': ['Bucharest'], 'Bucharest': ['Bucharest']}\n"
          ]
        }
      ],
      "source": [
        "problem_dfs = {\n",
        "       'Arad' : ['Zerind' , 'Sibiu' , 'Timisoara'],\n",
        "    'Zerind' : ['Oradea'],\n",
        "    'Timisoara' : ['Lugoj'],\n",
        "    'Sibiu' : ['Fagaras' , 'Rimminicu Vilcea'],\n",
        "    'Oradea' : ['Sibiu'],\n",
        "    'Lugoj' : ['Mehadia'],\n",
        "    'Mehadia' :['Drobeta'],\n",
        "    'Drobeta' :['Craiova'],\n",
        "    'Craiova' : ['Pitesti'],\n",
        "    'Rimminicu Vilcea' : ['Craiova' , 'Pitesti'],\n",
        "    'Pitesti' : ['Bucharest'],\n",
        "    'Fagaras' : ['Bucharest'],\n",
        "    'Bucharest' : ['Bucharest']\n",
        "}\n",
        "print(problem_dfs)"
      ]
    },
    {
      "cell_type": "code",
      "source": [
        "class State:\n",
        "  def __init__(self , state , cost=None , next=None, phi=None , distance=1):\n",
        "    self.state = state\n",
        "    self.cost = cost\n",
        "    self.phi = phi\n",
        "    self.distance = distance\n",
        "    self.next = None\n",
        "\n",
        "\n",
        "class ListState:\n",
        "  def __init__(self):\n",
        "    self.head = None\n",
        "  def insertState(self , state):\n",
        "    newState = State(state)\n",
        "    if(self.head):\n",
        "      current = self.head\n",
        "      while(current.next):\n",
        "        current = current.next\n",
        "      current.next = newState\n",
        "    else:\n",
        "      self.head = newState\n",
        "  def getAllData(self):\n",
        "    node = []\n",
        "    current = self.head\n",
        "    while(current):\n",
        "      node.append(current)\n",
        "      current = current.next\n",
        "    return node\n",
        "  def printAllState(self):\n",
        "    current = self.head\n",
        "    while(current):\n",
        "      print(current.state)\n",
        "      current = current.next\n"
      ],
      "metadata": {
        "id": "Wj074SlkcMSY"
      },
      "execution_count": 46,
      "outputs": []
    },
    {
      "cell_type": "code",
      "source": [
        "from queue import LifoQueue"
      ],
      "metadata": {
        "id": "lhJwrnx5guBL"
      },
      "execution_count": 30,
      "outputs": []
    },
    {
      "cell_type": "code",
      "source": [
        "def depth_first_search(problem , source , goal):\n",
        "  form_state = {}\n",
        "  for x in problem.keys():\n",
        "    list_state = ListState()\n",
        "    list_state.insertState(x)\n",
        "    for y in problem[x]:\n",
        "      list_state.insertState(y)\n",
        "    form_state[x] = list_state\n",
        "  froniter = LifoQueue()\n",
        "\n",
        "  for x in form_state.keys():\n",
        "    if  x == source:\n",
        "      form_state[x].distance = 0\n",
        "      froniter.put(form_state[x].head)\n",
        "  \n",
        "  explored = []\n",
        "  distance = 0\n",
        "  while froniter.qsize() != 0:\n",
        "    u = froniter.get()\n",
        "    print(\"Froniter : \" , u.state)\n",
        "    node = None\n",
        "    for x in form_state.keys():\n",
        "      if x == u.state : \n",
        "        node = form_state[x].head.next\n",
        "\n",
        "    while(node):\n",
        "      if node not in explored:\n",
        "        if node.state == goal:\n",
        "          node.distance = node.distance + u.distance\n",
        "          node.phi = u\n",
        "          explored.append(node)\n",
        "          return explored\n",
        "        print(\"Node \" , node.state)\n",
        "        node.distance = node.distance + u.distance\n",
        "        node.phi = u\n",
        "        explored.append(node)\n",
        "        froniter.put(node)\n",
        "      node = node.next  \n",
        "\n"
      ],
      "metadata": {
        "id": "t-CnPhjddcN0"
      },
      "execution_count": 61,
      "outputs": []
    },
    {
      "cell_type": "code",
      "source": [
        "solution = depth_first_search(problem_dfs , 'Arad' , 'Bucharest')\n",
        "result = solution[-1]\n",
        "while(result):\n",
        "  print(result.state)\n",
        "  result = result.phi"
      ],
      "metadata": {
        "colab": {
          "base_uri": "https://localhost:8080/"
        },
        "id": "pu1lyM3YeGeu",
        "outputId": "1752909f-c1c3-4cbf-b6df-0b101a43f588"
      },
      "execution_count": 63,
      "outputs": [
        {
          "output_type": "stream",
          "name": "stdout",
          "text": [
            "Froniter :  Arad\n",
            "Node  Zerind\n",
            "Node  Sibiu\n",
            "Node  Timisoara\n",
            "Froniter :  Timisoara\n",
            "Node  Lugoj\n",
            "Froniter :  Lugoj\n",
            "Node  Mehadia\n",
            "Froniter :  Mehadia\n",
            "Node  Drobeta\n",
            "Froniter :  Drobeta\n",
            "Node  Craiova\n",
            "Froniter :  Craiova\n",
            "Node  Pitesti\n",
            "Froniter :  Pitesti\n",
            "Bucharest\n",
            "Pitesti\n",
            "Craiova\n",
            "Drobeta\n",
            "Mehadia\n",
            "Lugoj\n",
            "Timisoara\n",
            "Arad\n"
          ]
        }
      ]
    },
    {
      "cell_type": "markdown",
      "source": [
        "**Depth-first Search akan mengujungi setiap node berdasarkan kedalamannya hingga bertemu dengan tujuan node**"
      ],
      "metadata": {
        "id": "2cy4CoKSzpqJ"
      }
    },
    {
      "cell_type": "code",
      "source": [
        ""
      ],
      "metadata": {
        "id": "5UeQYKSrewpz"
      },
      "execution_count": null,
      "outputs": []
    }
  ]
}