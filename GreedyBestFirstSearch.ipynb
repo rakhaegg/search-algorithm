{
  "nbformat": 4,
  "nbformat_minor": 0,
  "metadata": {
    "colab": {
      "name": "GreedyBestFirstSearch.ipynb",
      "provenance": [],
      "collapsed_sections": [],
      "authorship_tag": "ABX9TyPCdFy8MQ2o5mO+ZyGPcBcr",
      "include_colab_link": true
    },
    "kernelspec": {
      "name": "python3",
      "display_name": "Python 3"
    },
    "language_info": {
      "name": "python"
    }
  },
  "cells": [
    {
      "cell_type": "markdown",
      "metadata": {
        "id": "view-in-github",
        "colab_type": "text"
      },
      "source": [
        "<a href=\"https://colab.research.google.com/github/rakhaegg/search-algorithm/blob/main/GreedyBestFirstSearch.ipynb\" target=\"_parent\"><img src=\"https://colab.research.google.com/assets/colab-badge.svg\" alt=\"Open In Colab\"/></a>"
      ]
    },
    {
      "cell_type": "code",
      "execution_count": 1,
      "metadata": {
        "colab": {
          "base_uri": "https://localhost:8080/"
        },
        "id": "xp_8-DHYywQz",
        "outputId": "476b0d66-5556-4a43-c2cc-542a294e7605"
      },
      "outputs": [
        {
          "output_type": "stream",
          "name": "stdout",
          "text": [
            "{'Arad': {'Zerind': 75, 'Sibiu': 140, 'Timisoara': 118}, 'Zerind': {'Oradea': 71}, 'Timisoara': {'Lugoj': 111}, 'Sibiu': {'Fagaras': 99, 'Rimminicu Vilcea': 80}, 'Oradea': {'Sibiu': 151}, 'Lugoj': {'Mehadia': 70}, 'Mehadia': {'Drobeta': 75}, 'Drobeta': {'Craiova': 120}, 'Craiova': {'Pitesti': 138}, 'Rimminicu Vilcea': {'Craiova': 146, 'Pitesti': 97}, 'Pitesti': {'Bucharest': 101}, 'Fagaras': {'Bucharest': 211}, 'Bucharest': {'Bucharest': 0}}\n"
          ]
        }
      ],
      "source": [
        "problem_greedy = {\n",
        "    'Arad' :  {\n",
        "              'Zerind' : 75,\n",
        "              'Sibiu' : 140,\n",
        "              'Timisoara' : 118\n",
        "              },\n",
        "    'Zerind' : \n",
        "                {\n",
        "                'Oradea' : 71\n",
        "              },\n",
        "    'Timisoara' : \n",
        "                   \n",
        "                   {\n",
        "                'Lugoj' : 111\n",
        "                },\n",
        "    'Sibiu' : \n",
        "               {\n",
        "        'Fagaras' : 99,\n",
        "        'Rimminicu Vilcea' : 80\n",
        "    },\n",
        "    'Oradea' : \n",
        "                {\n",
        "        'Sibiu' : 151\n",
        "    },\n",
        "    'Lugoj' : \n",
        "               {\n",
        "        'Mehadia' : 70\n",
        "    },\n",
        "    'Mehadia' :\n",
        "                {\n",
        "        'Drobeta' : 75\n",
        "    },\n",
        "    'Drobeta' :\n",
        "                {\n",
        "        'Craiova' : 120\n",
        "    },\n",
        "    'Craiova' : \n",
        "                 {\n",
        "        'Pitesti' : 138\n",
        "    },\n",
        "    'Rimminicu Vilcea' :\n",
        "                         {\n",
        "      'Craiova':146,\n",
        "      'Pitesti':97\n",
        "    },\n",
        "    'Pitesti' : \n",
        "                 {\n",
        "        'Bucharest' : 101\n",
        "    },\n",
        "    'Fagaras' :\n",
        "                 {\n",
        "      'Bucharest' : 211\n",
        "    },\n",
        "    'Bucharest' : {\n",
        "      'Bucharest' : 0 \n",
        "    }\n",
        "}\n",
        "print(problem_greedy)"
      ]
    },
    {
      "cell_type": "code",
      "source": [
        "heuristic_value = {\n",
        "    'Arad' : 366,\n",
        "    'Zerind' :374 ,\n",
        "    'Timisoara' :329 ,\n",
        "    'Sibiu' :253 ,\n",
        "    'Oradea' : 380,\n",
        "    'Lugoj' :244 ,\n",
        "    'Mehadia' :241 ,\n",
        "    'Drobeta' :242 ,\n",
        "    'Craiova' :160 ,\n",
        "    'Rimminicu Vilcea' :193 ,\n",
        "    'Pitesti' : 100,\n",
        "    'Fagaras' : 176,\n",
        "    'Bucharest': 0\n",
        "}"
      ],
      "metadata": {
        "id": "GnDZQwk4MVnk"
      },
      "execution_count": 2,
      "outputs": []
    },
    {
      "cell_type": "code",
      "source": [
        "class State:\n",
        "  def __init__(self , state , distance=None , phi=None , h=None):\n",
        "    self.state = state\n",
        "    self.distance = distance\n",
        "    self.phi = phi\n",
        "    self.next = None\n",
        "    self.h = h\n",
        "class LinkState:\n",
        "  def __init__(self):\n",
        "    self.head = None\n",
        "  def insertState(self , state , h , distance=0):\n",
        "    newState = State(state=state  , distance = distance,h=h)\n",
        "    if(self.head):\n",
        "      current = self.head\n",
        "      while(current.next):\n",
        "        current = current.next\n",
        "      current.next = newState\n",
        "    else:\n",
        "      self.head = newState\n",
        "  def printState(self):\n",
        "    current = self.head\n",
        "    while current:\n",
        "      print(\"NODE : \" , current.state)\n",
        "      print(\"Distance : \" , current.distance)\n",
        "      print(\"Heuristic : \" , current.h)\n",
        "      current = current.next"
      ],
      "metadata": {
        "id": "A-9GVikGy595"
      },
      "execution_count": 3,
      "outputs": []
    },
    {
      "cell_type": "code",
      "source": [
        "from queue import PriorityQueue"
      ],
      "metadata": {
        "id": "KAkKY_zIxlCR"
      },
      "execution_count": 11,
      "outputs": []
    },
    {
      "cell_type": "code",
      "source": [
        "def set_head(state , form_state):\n",
        "  for x in form_state.keys():\n",
        "    if x == state:\n",
        "      return form_state[x].head\n",
        "def get(state):\n",
        "  for x in heuristic_value.keys():\n",
        "    if x == state:\n",
        "      return heuristic_value[x]\n",
        "def check_state_in_explored(state , explored):\n",
        "  for x in explored:\n",
        "    if x.state == state:\n",
        "      return False\n",
        "  return True\n",
        "def best_first(problem , source , goal):\n",
        "  form_state = {}\n",
        "  for x in problem.keys():\n",
        "    linked_list = LinkState()\n",
        "    linked_list.insertState(x , h=get(x))\n",
        "    for y in problem[x]:\n",
        "      linked_list.insertState(y , h=get(y) , distance=problem[x][y])\n",
        "    form_state[x] = linked_list\n",
        "\n",
        "  froniter = PriorityQueue()\n",
        "  explored = []\n",
        "  for x in form_state.keys():\n",
        "    if x == source:\n",
        "      explored.append(form_state[x].head)\n",
        "      froniter.put((form_state[x].head.h , form_state[x].head))\n",
        "  \n",
        "  while froniter.qsize() != 0:\n",
        "    u = froniter.get()\n",
        "    print(\"Froniter :\" , u[1].state)\n",
        "    print(\"Heuristic : \" ,u[0])\n",
        "    v = set_head(u[1].state , form_state)\n",
        "    \n",
        "    while(v):\n",
        "      status = check_state_in_explored(v.state , explored)\n",
        "      if status:\n",
        "        v.phi = u \n",
        "        explored.append(v)\n",
        "        if v.state == goal: \n",
        "          return explored     \n",
        "        froniter.put((v.h , v))\n",
        "      v = v.next  "
      ],
      "metadata": {
        "id": "505UqKK10C8H"
      },
      "execution_count": 32,
      "outputs": []
    },
    {
      "cell_type": "code",
      "source": [
        "solution = best_first(problem_greedy , 'Arad' , 'Bucharest')\n",
        "final = solution[-1]"
      ],
      "metadata": {
        "colab": {
          "base_uri": "https://localhost:8080/"
        },
        "id": "Cz1b468b4f_M",
        "outputId": "5ff3f418-fd06-4763-d506-2364b113ac3a"
      },
      "execution_count": 33,
      "outputs": [
        {
          "output_type": "stream",
          "name": "stdout",
          "text": [
            "Froniter : Arad\n",
            "Heuristic :  366\n",
            "Froniter : Sibiu\n",
            "Heuristic :  253\n",
            "Froniter : Fagaras\n",
            "Heuristic :  176\n"
          ]
        }
      ]
    },
    {
      "cell_type": "code",
      "source": [
        "test = PriorityQueue()\n",
        "\n",
        "test.put((200 , 'Test100'))\n",
        "test.put((1 , 'Test1'))\n",
        "test.put((2 , 'Test2'))\n",
        "test.put((3 , 'Test3'))\n",
        "\n",
        "while not test.empty():\n",
        "  next_item = test.get()\n",
        "  print(next_item[0])\n",
        "  print(next_item[1])\n"
      ],
      "metadata": {
        "colab": {
          "base_uri": "https://localhost:8080/"
        },
        "id": "vJGB5lEZwtn0",
        "outputId": "a390a26b-3d5e-47bf-cf76-9f8ae3403aa0"
      },
      "execution_count": 16,
      "outputs": [
        {
          "output_type": "stream",
          "name": "stdout",
          "text": [
            "1\n",
            "Test1\n",
            "2\n",
            "Test2\n",
            "3\n",
            "Test3\n",
            "200\n",
            "Test100\n"
          ]
        }
      ]
    },
    {
      "cell_type": "code",
      "source": [
        ""
      ],
      "metadata": {
        "id": "D-BgYFQrxD7H"
      },
      "execution_count": null,
      "outputs": []
    }
  ]
}