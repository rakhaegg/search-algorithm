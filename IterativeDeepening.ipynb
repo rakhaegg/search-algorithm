{
  "nbformat": 4,
  "nbformat_minor": 0,
  "metadata": {
    "colab": {
      "name": "IterativeDeepening.ipynb",
      "provenance": [],
      "authorship_tag": "ABX9TyM+s8qkYLe+MSLThe2SJVsz"
    },
    "kernelspec": {
      "name": "python3",
      "display_name": "Python 3"
    },
    "language_info": {
      "name": "python"
    }
  },
  "cells": [
    {
      "cell_type": "code",
      "execution_count": 6,
      "metadata": {
        "colab": {
          "base_uri": "https://localhost:8080/"
        },
        "id": "H5gVvy-x0tsR",
        "outputId": "10a1895b-5889-4f7e-f91c-0aa69b8fabce"
      },
      "outputs": [
        {
          "output_type": "stream",
          "name": "stdout",
          "text": [
            "{'Arad': ['Zerind', 'Sibiu', 'Timisoara'], 'Zerind': ['Oradea'], 'Timisoara': ['Lugoj'], 'Sibiu': ['Fagaras', 'Rimminicu Vilcea'], 'Oradea': ['Sibiu'], 'Lugoj': ['Mehadia'], 'Mehadia': ['Drobeta'], 'Drobeta': ['Craiova'], 'Craiova': ['Pitesti'], 'Rimminicu Vilcea': ['Craiova', 'Pitesti'], 'Pitesti': ['Bucharest'], 'Fagaras': ['Bucharest'], 'Bucharest': ['Bucharest']}\n"
          ]
        }
      ],
      "source": [
        "problem_id = {\n",
        "       'Arad' : ['Zerind' , 'Sibiu' , 'Timisoara'],\n",
        "    'Zerind' : ['Oradea'],\n",
        "    'Timisoara' : ['Lugoj'],\n",
        "    'Sibiu' : ['Fagaras' , 'Rimminicu Vilcea'],\n",
        "    'Oradea' : ['Sibiu'],\n",
        "    'Lugoj' : ['Mehadia'],\n",
        "    'Mehadia' :['Drobeta'],\n",
        "    'Drobeta' :['Craiova'],\n",
        "    'Craiova' : ['Pitesti'],\n",
        "    'Rimminicu Vilcea' : ['Craiova' , 'Pitesti'],\n",
        "    'Pitesti' : ['Bucharest'],\n",
        "    'Fagaras' : ['Bucharest'],\n",
        "    'Bucharest' : ['Bucharest']\n",
        "}\n",
        "print(problem_id)"
      ]
    },
    {
      "cell_type": "code",
      "source": [
        "class State:\n",
        "  def __init__(self , state , phi=None , depth=None):\n",
        "    self.state = state\n",
        "    self.phi = phi\n",
        "    self.depth = depth\n",
        "    self.next = None\n",
        "\n",
        "class ListState:\n",
        "  def __init__(self):\n",
        "    self.head = None\n",
        "  def insertState(self , state):\n",
        "    newState =  State(state)\n",
        "    if(self.head):\n",
        "      current = self.head\n",
        "      while(current.next):\n",
        "        current = current.next\n",
        "      current.next = newState\n",
        "    else:\n",
        "      self.head = newState\n",
        "  def printAllData(self):\n",
        "    current = self.head\n",
        "    while(current):\n",
        "      print(\"Node : \" , current.state)\n",
        "      current = current.next\n",
        "    \n",
        "  "
      ],
      "metadata": {
        "id": "HFBMIBLK018y"
      },
      "execution_count": 11,
      "outputs": []
    },
    {
      "cell_type": "code",
      "source": [
        "from queue import Queue\n",
        "from queue import LifoQueue"
      ],
      "metadata": {
        "id": "0WB2OruLZvVW"
      },
      "execution_count": 23,
      "outputs": []
    },
    {
      "cell_type": "code",
      "source": [
        "def do_iterative(problem , source , goal):\n",
        "  form_state = {}\n",
        "  countdepth = 0\n",
        "  for x in problem.keys():\n",
        "    list_state = ListState()\n",
        "    list_state.insertState(x)\n",
        "    for y in problem[x]:\n",
        "      list_state.insertState(y)\n",
        "    form_state[x] = list_state\n",
        "  \n",
        "  depth_limit = 3\n",
        "  count_depth = 0\n",
        "  q = Queue()\n",
        "\n",
        "  \n",
        "  for x in form_state.keys():\n",
        "    if x == source:\n",
        "      form_state[x].head.depth = 0\n",
        "      form_state[x].head.phi = None\n",
        "      q.put(form_state[x].head)\n",
        "      break\n",
        "  explored = []\n",
        "\n",
        "  while q.qsize() != 0 and count_depth != depth_limit:\n",
        "    \n",
        "    u = q.get()\n",
        "\n",
        "    for search in explored:\n",
        "      if search.state == goal :\n",
        "        return explored\n",
        "   \n",
        "\n",
        "    count_depth = count_depth + 1\n",
        "    v = None\n",
        "    for x in form_state.keys():\n",
        "      if x == u.state:\n",
        "        v = form_state[x].head.next\n",
        "        break\n",
        "    \n",
        "    while(v):\n",
        "      if v not in explored:\n",
        "        v.phi = u\n",
        "        v.depth = count_depth\n",
        "        explored.append(v)\n",
        "        q.put(v)\n",
        "      v = v.next\n",
        "  \n",
        "  for selesai in explored:\n",
        "    print(\"Node : \" , selesai.state)\n",
        "    print(\"Depth \" , selesai.depth)"
      ],
      "metadata": {
        "id": "kUISaY7ZWlhy"
      },
      "execution_count": 32,
      "outputs": []
    },
    {
      "cell_type": "code",
      "source": [
        "do_iterative(problem_id , 'Arad' , 'Test')"
      ],
      "metadata": {
        "colab": {
          "base_uri": "https://localhost:8080/"
        },
        "id": "SaIkDQk8YXg5",
        "outputId": "6b27843f-d002-4296-f715-9bce934e6d71"
      },
      "execution_count": 33,
      "outputs": [
        {
          "output_type": "stream",
          "name": "stdout",
          "text": [
            "Node :  Zerind\n",
            "Depth  1\n",
            "Node :  Sibiu\n",
            "Depth  1\n",
            "Node :  Timisoara\n",
            "Depth  1\n",
            "Node :  Oradea\n",
            "Depth  2\n",
            "Node :  Fagaras\n",
            "Depth  3\n",
            "Node :  Rimminicu Vilcea\n",
            "Depth  3\n"
          ]
        }
      ]
    },
    {
      "cell_type": "code",
      "source": [
        ""
      ],
      "metadata": {
        "id": "Vlb5N_KtlkDe"
      },
      "execution_count": null,
      "outputs": []
    }
  ]
}