{
  "nbformat": 4,
  "nbformat_minor": 0,
  "metadata": {
    "colab": {
      "name": "SearchAlgorithm.ipynb",
      "provenance": [],
      "collapsed_sections": [],
      "authorship_tag": "ABX9TyMfDRpLgiqwDQ2KCJo3zozQ",
      "include_colab_link": true
    },
    "kernelspec": {
      "name": "python3",
      "display_name": "Python 3"
    },
    "language_info": {
      "name": "python"
    }
  },
  "cells": [
    {
      "cell_type": "markdown",
      "metadata": {
        "id": "view-in-github",
        "colab_type": "text"
      },
      "source": [
        "<a href=\"https://colab.research.google.com/github/rakhaegg/search-algorithm/blob/main/SearchAlgorithm.ipynb\" target=\"_parent\"><img src=\"https://colab.research.google.com/assets/colab-badge.svg\" alt=\"Open In Colab\"/></a>"
      ]
    },
    {
      "cell_type": "markdown",
      "source": [
        "# **Representation Graph**"
      ],
      "metadata": {
        "id": "lGuxAh2YVWCE"
      }
    },
    {
      "cell_type": "markdown",
      "source": [
        "![graph.png](data:image/png;base64,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)"
      ],
      "metadata": {
        "id": "ZurSp9addDln"
      }
    },
    {
      "cell_type": "markdown",
      "source": [
        "**Undirect Graph**"
      ],
      "metadata": {
        "id": "bE1yRbcHattm"
      }
    },
    {
      "cell_type": "code",
      "source": [
        "graph_element = {\n",
        "    \"a\" : [\"b\" , \"c\"],\n",
        "    \"b\" : [\"a\" , \"d\"],\n",
        "    \"c\" : [\"a\" , \"d\"],\n",
        "    \"d\" : [\"e\"],\n",
        "    \"e\" : [\"d\"]\n",
        "}\n",
        "print(graph_element)"
      ],
      "metadata": {
        "colab": {
          "base_uri": "https://localhost:8080/"
        },
        "id": "R0wdnTGfVcfe",
        "outputId": "525826ab-becd-4810-f120-93a361ec739d"
      },
      "execution_count": 2,
      "outputs": [
        {
          "output_type": "stream",
          "name": "stdout",
          "text": [
            "{'a': ['b', 'c'], 'b': ['a', 'd'], 'c': ['a', 'd'], 'd': ['e'], 'e': ['d']}\n"
          ]
        }
      ]
    },
    {
      "cell_type": "code",
      "source": [
        "class graph:\n",
        "  def __init__(self , gdict=None):\n",
        "    if gdict is None:\n",
        "      gdict = []\n",
        "    self.gdict = gdict\n",
        "  def getVertices(self):\n",
        "    return list(self.gdict.keys())\n",
        "  def edges(self):\n",
        "    return self.findEdges()\n",
        "  def addVertex(self , v):\n",
        "    if v not in self.gdict:\n",
        "      self.gdict[v] = []\n",
        "  def addEdges(self , edge):\n",
        "    # temv1 , temv2 = edge\n",
        "    # print(\"V1 : \" , temv1 )\n",
        "    # print(\"V2 : \" , temv2)\n",
        "    edge = set(edge)\n",
        "    (u, v) = tuple(edge)\n",
        "    if v and u in self.gdict:\n",
        "      self.gdict[u].append(v)\n",
        "      self.gdict[v].append(u)\n",
        "      print(self.gdict)\n",
        "    elif v or u not in self.gdict :\n",
        "      if v not in self.gdict:\n",
        "        self.gdict[v] = []\n",
        "      if u not in self.gdict :\n",
        "        self.gdict[u] = []\n",
        "      self.gdict[u].append(v)\n",
        "      self.gdict[v].append(u)\n",
        "  def findEdges(self):\n",
        "    edgeName = []\n",
        "    for v in self.gdict:\n",
        "      for u in self.gdict[v]:\n",
        "        if {v , u} not in edgeName:\n",
        "          edgeName.append({v , u})\n",
        "        \n",
        "    # Second Approach\n",
        "    edgeNameSecond = []\n",
        "    print(self.gdict)\n",
        "    for v in self.gdict:\n",
        "      for u in self.gdict[v]:\n",
        "        print(\"V : \" , v)\n",
        "        edgeNameSecond.append({u , v})\n",
        "\n",
        "    return edgeNameSecond "
      ],
      "metadata": {
        "id": "5mlqx1KPdKXn"
      },
      "execution_count": 3,
      "outputs": []
    },
    {
      "cell_type": "code",
      "source": [
        "g = graph(graph_element)\n",
        "print(g.getVertices())"
      ],
      "metadata": {
        "colab": {
          "base_uri": "https://localhost:8080/"
        },
        "id": "iW4FTBRfe_dw",
        "outputId": "d8c82c8d-a9e5-46dc-f160-9e4b0a2af4cd"
      },
      "execution_count": 4,
      "outputs": [
        {
          "output_type": "stream",
          "name": "stdout",
          "text": [
            "['a', 'b', 'c', 'd', 'e']\n"
          ]
        }
      ]
    },
    {
      "cell_type": "code",
      "source": [
        "print(g.edges())"
      ],
      "metadata": {
        "colab": {
          "base_uri": "https://localhost:8080/"
        },
        "id": "0WdX71ebfOpj",
        "outputId": "70902239-f3af-4e5b-8611-acaab8697552"
      },
      "execution_count": 5,
      "outputs": [
        {
          "output_type": "stream",
          "name": "stdout",
          "text": [
            "{'a': ['b', 'c'], 'b': ['a', 'd'], 'c': ['a', 'd'], 'd': ['e'], 'e': ['d']}\n",
            "V :  a\n",
            "V :  a\n",
            "V :  b\n",
            "V :  b\n",
            "V :  c\n",
            "V :  c\n",
            "V :  d\n",
            "V :  e\n",
            "[{'b', 'a'}, {'a', 'c'}, {'a', 'b'}, {'b', 'd'}, {'a', 'c'}, {'c', 'd'}, {'d', 'e'}, {'e', 'd'}]\n"
          ]
        }
      ]
    },
    {
      "cell_type": "code",
      "source": [
        "g.addVertex(\"f\")\n",
        "print(g.getVertices())"
      ],
      "metadata": {
        "colab": {
          "base_uri": "https://localhost:8080/"
        },
        "id": "5vKF8Oakgb2Z",
        "outputId": "def0d89d-349f-401d-ef81-f65e911e2a90"
      },
      "execution_count": 6,
      "outputs": [
        {
          "output_type": "stream",
          "name": "stdout",
          "text": [
            "['a', 'b', 'c', 'd', 'e', 'f']\n"
          ]
        }
      ]
    },
    {
      "cell_type": "code",
      "source": [
        "# g.addEdges({'a' , 'e'}) # Vertex sudah ada \n",
        "# g.addEdges({'z' , 'w' })\n",
        "print(g.edges())"
      ],
      "metadata": {
        "colab": {
          "base_uri": "https://localhost:8080/"
        },
        "id": "E5MSrrYVhDG5",
        "outputId": "9337ddbd-c061-4165-9e56-263bb4e6b94f"
      },
      "execution_count": 7,
      "outputs": [
        {
          "output_type": "stream",
          "name": "stdout",
          "text": [
            "{'a': ['b', 'c'], 'b': ['a', 'd'], 'c': ['a', 'd'], 'd': ['e'], 'e': ['d'], 'f': []}\n",
            "V :  a\n",
            "V :  a\n",
            "V :  b\n",
            "V :  b\n",
            "V :  c\n",
            "V :  c\n",
            "V :  d\n",
            "V :  e\n",
            "[{'b', 'a'}, {'a', 'c'}, {'a', 'b'}, {'b', 'd'}, {'a', 'c'}, {'c', 'd'}, {'d', 'e'}, {'e', 'd'}]\n"
          ]
        }
      ]
    },
    {
      "cell_type": "code",
      "source": [
        "g.addEdges({'f' , 'e'})\n",
        "print(g.edges())"
      ],
      "metadata": {
        "colab": {
          "base_uri": "https://localhost:8080/"
        },
        "id": "Ht2ThuH_jDA4",
        "outputId": "6cb74d20-6cc0-4d01-a033-ff88f7681f84"
      },
      "execution_count": 8,
      "outputs": [
        {
          "output_type": "stream",
          "name": "stdout",
          "text": [
            "{'a': ['b', 'c'], 'b': ['a', 'd'], 'c': ['a', 'd'], 'd': ['e'], 'e': ['d', 'f'], 'f': ['e']}\n",
            "{'a': ['b', 'c'], 'b': ['a', 'd'], 'c': ['a', 'd'], 'd': ['e'], 'e': ['d', 'f'], 'f': ['e']}\n",
            "V :  a\n",
            "V :  a\n",
            "V :  b\n",
            "V :  b\n",
            "V :  c\n",
            "V :  c\n",
            "V :  d\n",
            "V :  e\n",
            "V :  e\n",
            "V :  f\n",
            "[{'b', 'a'}, {'a', 'c'}, {'a', 'b'}, {'b', 'd'}, {'a', 'c'}, {'c', 'd'}, {'d', 'e'}, {'e', 'd'}, {'f', 'e'}, {'f', 'e'}]\n"
          ]
        }
      ]
    },
    {
      "cell_type": "markdown",
      "source": [
        "**List**"
      ],
      "metadata": {
        "id": "sMBWY267tuQs"
      }
    },
    {
      "cell_type": "code",
      "source": [
        "class AdjList:\n",
        "  def __init__(self , data  = None , next=None):\n",
        "    self.data = data\n",
        "    self.next = None\n",
        "\n",
        "class LinkedListGraph:\n",
        "  def __init__(self):\n",
        "    self.head =  None\n",
        "  def insertData(self , data):\n",
        "    newNode = AdjList(data)\n",
        "    if(self.head):\n",
        "      current = self.head\n",
        "      while(current.next):\n",
        "        current = current.next\n",
        "      current.next = newNode\n",
        "    else :\n",
        "      self.head = newNode\n",
        "  def getData(self):\n",
        "    current = self.head\n",
        "    while(current):\n",
        "      print(current.data)\n",
        "      current = current.next\n",
        "    \n",
        "listGraph = LinkedListGraph()\n",
        "vertex = {}\n",
        "for v in graph_element.keys():\n",
        "  listGraph = LinkedListGraph()\n",
        "  for u in graph_element[v]:\n",
        "    listGraph.insertData(u)\n",
        "  vertex[v] = listGraph"
      ],
      "metadata": {
        "id": "Xvq96ai7wmG2"
      },
      "execution_count": 9,
      "outputs": []
    },
    {
      "cell_type": "code",
      "source": [
        "print(vertex['a'].getData())\n",
        "print(vertex['b'].getData())"
      ],
      "metadata": {
        "colab": {
          "base_uri": "https://localhost:8080/"
        },
        "id": "sDix0h3oRctE",
        "outputId": "6b482d8c-2ee6-4d64-b058-248429475b14"
      },
      "execution_count": 10,
      "outputs": [
        {
          "output_type": "stream",
          "name": "stdout",
          "text": [
            "b\n",
            "c\n",
            "None\n",
            "a\n",
            "d\n",
            "None\n"
          ]
        }
      ]
    },
    {
      "cell_type": "markdown",
      "source": [
        "**Matrix Representation**"
      ],
      "metadata": {
        "id": "gzJM4sqVXVGr"
      }
    },
    {
      "cell_type": "markdown",
      "source": [
        "**Column adalah vertex**\n",
        "<br>\n",
        "**Baris adalah adj**"
      ],
      "metadata": {
        "id": "a_BjN2O7bXIu"
      }
    },
    {
      "cell_type": "code",
      "source": [
        "print(graph_element)"
      ],
      "metadata": {
        "colab": {
          "base_uri": "https://localhost:8080/"
        },
        "id": "x2ULSzQsYwBM",
        "outputId": "caa651c0-ba50-43ae-b542-3751e99de1d8"
      },
      "execution_count": 11,
      "outputs": [
        {
          "output_type": "stream",
          "name": "stdout",
          "text": [
            "{'a': ['b', 'c'], 'b': ['a', 'd'], 'c': ['a', 'd'], 'd': ['e'], 'e': ['d', 'f'], 'f': ['e']}\n"
          ]
        }
      ]
    },
    {
      "cell_type": "code",
      "source": [
        "matrix = [[x for x in graph_element.keys() ] for y in range(len(graph_element.keys()))]\n",
        "qwe =0\n",
        "for v in graph_element.keys():\n",
        "    tempIndex = []\n",
        "    for u in graph_element[v]:\n",
        "      print(\"U: \" , u)\n",
        "      # print(\"V:\" , type(matrix[qwe][rr]) )\n",
        "      for rr in range(6):\n",
        "        print(matrix[qwe][rr])\n",
        "        if matrix[qwe][rr] == u:\n",
        "          matrix[qwe][rr] = 1\n",
        "          if rr in tempIndex:\n",
        "            tempIndex.remove(rr)\n",
        "        else:\n",
        "          if rr not in tempIndex:\n",
        "            tempIndex.append(rr)\n",
        "    print(tempIndex)\n",
        "    print(matrix)\n",
        "    print()\n",
        "    qwe = qwe + 1\n"
      ],
      "metadata": {
        "colab": {
          "base_uri": "https://localhost:8080/"
        },
        "id": "bu038a8aZFC0",
        "outputId": "ab80dd4d-aa5c-4aa1-e249-e86ce71fa52b"
      },
      "execution_count": 12,
      "outputs": [
        {
          "output_type": "stream",
          "name": "stdout",
          "text": [
            "U:  b\n",
            "a\n",
            "b\n",
            "c\n",
            "d\n",
            "e\n",
            "f\n",
            "U:  c\n",
            "a\n",
            "1\n",
            "c\n",
            "d\n",
            "e\n",
            "f\n",
            "[0, 3, 4, 5, 1]\n",
            "[['a', 1, 1, 'd', 'e', 'f'], ['a', 'b', 'c', 'd', 'e', 'f'], ['a', 'b', 'c', 'd', 'e', 'f'], ['a', 'b', 'c', 'd', 'e', 'f'], ['a', 'b', 'c', 'd', 'e', 'f'], ['a', 'b', 'c', 'd', 'e', 'f']]\n",
            "\n",
            "U:  a\n",
            "a\n",
            "b\n",
            "c\n",
            "d\n",
            "e\n",
            "f\n",
            "U:  d\n",
            "1\n",
            "b\n",
            "c\n",
            "d\n",
            "e\n",
            "f\n",
            "[1, 2, 4, 5, 0]\n",
            "[['a', 1, 1, 'd', 'e', 'f'], [1, 'b', 'c', 1, 'e', 'f'], ['a', 'b', 'c', 'd', 'e', 'f'], ['a', 'b', 'c', 'd', 'e', 'f'], ['a', 'b', 'c', 'd', 'e', 'f'], ['a', 'b', 'c', 'd', 'e', 'f']]\n",
            "\n",
            "U:  a\n",
            "a\n",
            "b\n",
            "c\n",
            "d\n",
            "e\n",
            "f\n",
            "U:  d\n",
            "1\n",
            "b\n",
            "c\n",
            "d\n",
            "e\n",
            "f\n",
            "[1, 2, 4, 5, 0]\n",
            "[['a', 1, 1, 'd', 'e', 'f'], [1, 'b', 'c', 1, 'e', 'f'], [1, 'b', 'c', 1, 'e', 'f'], ['a', 'b', 'c', 'd', 'e', 'f'], ['a', 'b', 'c', 'd', 'e', 'f'], ['a', 'b', 'c', 'd', 'e', 'f']]\n",
            "\n",
            "U:  e\n",
            "a\n",
            "b\n",
            "c\n",
            "d\n",
            "e\n",
            "f\n",
            "[0, 1, 2, 3, 5]\n",
            "[['a', 1, 1, 'd', 'e', 'f'], [1, 'b', 'c', 1, 'e', 'f'], [1, 'b', 'c', 1, 'e', 'f'], ['a', 'b', 'c', 'd', 1, 'f'], ['a', 'b', 'c', 'd', 'e', 'f'], ['a', 'b', 'c', 'd', 'e', 'f']]\n",
            "\n",
            "U:  d\n",
            "a\n",
            "b\n",
            "c\n",
            "d\n",
            "e\n",
            "f\n",
            "U:  f\n",
            "a\n",
            "b\n",
            "c\n",
            "1\n",
            "e\n",
            "f\n",
            "[0, 1, 2, 4, 3]\n",
            "[['a', 1, 1, 'd', 'e', 'f'], [1, 'b', 'c', 1, 'e', 'f'], [1, 'b', 'c', 1, 'e', 'f'], ['a', 'b', 'c', 'd', 1, 'f'], ['a', 'b', 'c', 1, 'e', 1], ['a', 'b', 'c', 'd', 'e', 'f']]\n",
            "\n",
            "U:  e\n",
            "a\n",
            "b\n",
            "c\n",
            "d\n",
            "e\n",
            "f\n",
            "[0, 1, 2, 3, 5]\n",
            "[['a', 1, 1, 'd', 'e', 'f'], [1, 'b', 'c', 1, 'e', 'f'], [1, 'b', 'c', 1, 'e', 'f'], ['a', 'b', 'c', 'd', 1, 'f'], ['a', 'b', 'c', 1, 'e', 1], ['a', 'b', 'c', 'd', 1, 'f']]\n",
            "\n"
          ]
        }
      ]
    },
    {
      "cell_type": "code",
      "source": [
        "for x in range(5):\n",
        "  print(x)"
      ],
      "metadata": {
        "colab": {
          "base_uri": "https://localhost:8080/"
        },
        "id": "aPMEMlNTe3sL",
        "outputId": "26f7563a-caed-4344-ef2f-2fe6c4754447"
      },
      "execution_count": 13,
      "outputs": [
        {
          "output_type": "stream",
          "name": "stdout",
          "text": [
            "0\n",
            "1\n",
            "2\n",
            "3\n",
            "4\n"
          ]
        }
      ]
    },
    {
      "cell_type": "code",
      "source": [
        "#matrix = [[ x for x in graph_element.keys() ]] * 5\n",
        "array_2d = [[0 for x in range(2)] for y in range(3)]\n",
        "\n",
        "#matrix[0][1] = 1\n",
        "array_2d[0][0] = 100\n",
        "print(array_2d)\n"
      ],
      "metadata": {
        "id": "YtY6Fj58iYAh",
        "colab": {
          "base_uri": "https://localhost:8080/"
        },
        "outputId": "2157cf79-c2ab-4a57-9bf6-cffec6c11bc2"
      },
      "execution_count": 14,
      "outputs": [
        {
          "output_type": "stream",
          "name": "stdout",
          "text": [
            "[[100, 0], [0, 0], [0, 0]]\n"
          ]
        }
      ]
    },
    {
      "cell_type": "code",
      "source": [
        "print(array_2d)"
      ],
      "metadata": {
        "id": "OTovYZNZyGJl",
        "colab": {
          "base_uri": "https://localhost:8080/"
        },
        "outputId": "5bfefb40-6cff-4456-9621-8c494314d2f1"
      },
      "execution_count": 15,
      "outputs": [
        {
          "output_type": "stream",
          "name": "stdout",
          "text": [
            "[[100, 0], [0, 0], [0, 0]]\n"
          ]
        }
      ]
    },
    {
      "cell_type": "markdown",
      "source": [
        "# **Breadth-first Search**"
      ],
      "metadata": {
        "id": "sI2zn-uwcUgS"
      }
    },
    {
      "cell_type": "code",
      "source": [
        "from queue import Queue\n"
      ],
      "metadata": {
        "id": "cjzpeSo8cdg8"
      },
      "execution_count": 16,
      "outputs": []
    },
    {
      "cell_type": "markdown",
      "source": [
        "**S ->  W , R**\n",
        "<br>\n",
        "**W -> T , X**\n",
        "<br>\n",
        "**R -> V**\n",
        "<br>\n",
        "**T -> U**\n",
        "<br>\n",
        "**X -> U,Y**\n",
        "<br>\n",
        "**U -> Y**\n"
      ],
      "metadata": {
        "id": "NCvWSZ0zc9Id"
      }
    },
    {
      "cell_type": "code",
      "source": [
        "graph_element = {\n",
        "    \"S\" : [\"W\" , \"R\"],\n",
        "    \"W\" : [\"T\" , \"X\"],\n",
        "    \"R\" : [\"V\"],\n",
        "    \"T\" : [\"U\"],\n",
        "    \"X\" : [\"U\" , \"Y\"],\n",
        "    \"U\" : [\"Y\"]\n",
        "}\n",
        "print(graph_element)"
      ],
      "metadata": {
        "colab": {
          "base_uri": "https://localhost:8080/"
        },
        "id": "guEMtXQxeDLu",
        "outputId": "4bc0ad5a-2138-45cf-f6b8-f04e7d362933"
      },
      "execution_count": 17,
      "outputs": [
        {
          "output_type": "stream",
          "name": "stdout",
          "text": [
            "{'S': ['W', 'R'], 'W': ['T', 'X'], 'R': ['V'], 'T': ['U'], 'X': ['U', 'Y'], 'U': ['Y']}\n"
          ]
        }
      ]
    },
    {
      "cell_type": "code",
      "source": [
        "class AdjList:\n",
        "  def __init__(self , data  = None , next=None , color =None , phi=None , distance=None):\n",
        "    self.data = data\n",
        "    self.next = None\n",
        "    self.color = color\n",
        "    self.phi = phi\n",
        "    self.distance = distance\n",
        "\n",
        "class LinkedListGraph:\n",
        "  def __init__(self):\n",
        "    self.head =  None\n",
        "  \n",
        "  def insertData(self , data):\n",
        "    newNode = AdjList(data)\n",
        "    if(self.head):\n",
        "      current = self.head\n",
        "      while(current.next):\n",
        "        current = current.next\n",
        "      current.next = newNode\n",
        "    else :\n",
        "      self.head = newNode\n",
        "  def getData(self):\n",
        "    current = self.head\n",
        "    temp = []\n",
        "    while(current):\n",
        "      temp.append(current.data)\n",
        "      current = current.next\n",
        "    return temp\n",
        "  def setColor(self , color ,data):\n",
        "    current = self.head\n",
        "    while(current):\n",
        "      if current.data == data:\n",
        "        current.color = color\n",
        "        break\n",
        "      current = current.next\n",
        "  def setDistance(self , distance , data):\n",
        "    current = self.head\n",
        "    while(current):\n",
        "      if current.data == data:\n",
        "        current.distance = distance\n",
        "        break\n",
        "      current = current.next\n",
        "  def setPhi(self , phi , data):\n",
        "    current = self.head\n",
        "    while(current):\n",
        "      if current.data == data:\n",
        "        current.phi =phi\n",
        "        break\n",
        "      current = current.next\n",
        "  def getColor(self):\n",
        "    current = self.head\n",
        "    while(current):\n",
        "      print(current.color)\n",
        "      current = current.next\n",
        "  def getColorByData(self , data):\n",
        "    current = self.head\n",
        "    while(current):\n",
        "      if current.data == data:\n",
        "        return current.color\n",
        "        break\n",
        "  def getNode(self , data):\n",
        "    current = self.head\n",
        "    while(current):\n",
        "      if current.data == data:\n",
        "        return current\n",
        "        break\n",
        "      else :\n",
        "        current = current.next\n",
        "  def printInformationData(self):\n",
        "    current = self.head\n",
        "    while(current):\n",
        "      print(\"Node : \" , current.data)\n",
        "      print(\"Color : \" , current.color)\n",
        "      print(\"Distance : \" , current.distance)\n",
        "      print(\"Phi : \" , current.phi)\n",
        "      current = current.next\n",
        "      \n",
        "    \n",
        "listGraph = LinkedListGraph()\n",
        "vertex = {}\n",
        "for v in graph_element.keys():\n",
        "  listGraph = LinkedListGraph()\n",
        "  listGraph.insertData(v)\n",
        "  for u in graph_element[v]:\n",
        "    listGraph.insertData(u)\n",
        "  vertex[v] = listGraph"
      ],
      "metadata": {
        "id": "yKhLLloXcrXd"
      },
      "execution_count": 108,
      "outputs": []
    },
    {
      "cell_type": "code",
      "source": [
        "print(vertex['S'].getData())"
      ],
      "metadata": {
        "colab": {
          "base_uri": "https://localhost:8080/"
        },
        "id": "NI8eNqjLefJX",
        "outputId": "5cd3f08f-c07c-41d8-98e6-b3b563e09b54"
      },
      "execution_count": 19,
      "outputs": [
        {
          "output_type": "stream",
          "name": "stdout",
          "text": [
            "['S', 'W', 'R']\n"
          ]
        }
      ]
    },
    {
      "cell_type": "code",
      "source": [
        "def breadth_search(graph , source):\n",
        "  Q = Queue()\n",
        "  for x in graph.keys():\n",
        "    if source in graph[x].getData():\n",
        "      for y in graph[x].getData():\n",
        "        if y == source:\n",
        "          Q.put(graph[x].head)\n",
        "          graph[x].setColor(\"Gray\" , y)\n",
        "          graph[x].setDistance(0 , y)\n",
        "          graph[x].setPhi(None , y)\n",
        "        else :\n",
        "          graph[x].setColor(\"White\" , y)\n",
        "    else:\n",
        "      for y in graph[x].getData():\n",
        "        graph[x].setColor(\"White\" , y)\n",
        "  \n",
        "  print(\"Test\")\n",
        "  while not Q.empty():\n",
        "    u = Q.get()\n",
        "    for x in graph.keys():\n",
        "      if x == u.data :\n",
        "        tmp = graph[x].head\n",
        "        while(tmp):\n",
        "          if tmp.color == 'White':\n",
        "            tmp.color = 'Gray'\n",
        "            tmp.distance = u.distance + 1\n",
        "            tmp.phi = u\n",
        "            Q.put(tmp)\n",
        "          tmp = tmp.next\n",
        "        u.color = 'Black'\n",
        "  for x in graph.keys():\n",
        "    print(graph[x].printInformationData())"
      ],
      "metadata": {
        "id": "5KEp4ce0ev7B"
      },
      "execution_count": 109,
      "outputs": []
    },
    {
      "cell_type": "code",
      "source": [
        "breadth_search(vertex , 'S')"
      ],
      "metadata": {
        "id": "W_P0KpQahQ1n",
        "colab": {
          "base_uri": "https://localhost:8080/"
        },
        "outputId": "c682e400-d3f9-4afb-8979-3093521f15e0"
      },
      "execution_count": 110,
      "outputs": [
        {
          "output_type": "stream",
          "name": "stdout",
          "text": [
            "Test\n",
            "Node :  S\n",
            "Color :  Black\n",
            "Distance :  0\n",
            "Phi :  None\n",
            "Node :  W\n",
            "Color :  Black\n",
            "Distance :  1\n",
            "Phi :  <__main__.AdjList object at 0x7f54a4789450>\n",
            "Node :  R\n",
            "Color :  Black\n",
            "Distance :  1\n",
            "Phi :  <__main__.AdjList object at 0x7f54a4789450>\n",
            "None\n",
            "Node :  W\n",
            "Color :  Black\n",
            "Distance :  2\n",
            "Phi :  <__main__.AdjList object at 0x7f54a4869210>\n",
            "Node :  T\n",
            "Color :  Black\n",
            "Distance :  2\n",
            "Phi :  <__main__.AdjList object at 0x7f54a4869210>\n",
            "Node :  X\n",
            "Color :  Black\n",
            "Distance :  2\n",
            "Phi :  <__main__.AdjList object at 0x7f54a4869210>\n",
            "None\n",
            "Node :  R\n",
            "Color :  Black\n",
            "Distance :  2\n",
            "Phi :  <__main__.AdjList object at 0x7f54a48699d0>\n",
            "Node :  V\n",
            "Color :  Gray\n",
            "Distance :  2\n",
            "Phi :  <__main__.AdjList object at 0x7f54a48699d0>\n",
            "None\n",
            "Node :  T\n",
            "Color :  Black\n",
            "Distance :  3\n",
            "Phi :  <__main__.AdjList object at 0x7f54a4869bd0>\n",
            "Node :  U\n",
            "Color :  Black\n",
            "Distance :  3\n",
            "Phi :  <__main__.AdjList object at 0x7f54a4869bd0>\n",
            "None\n",
            "Node :  X\n",
            "Color :  Black\n",
            "Distance :  3\n",
            "Phi :  <__main__.AdjList object at 0x7f54a48695d0>\n",
            "Node :  U\n",
            "Color :  Black\n",
            "Distance :  3\n",
            "Phi :  <__main__.AdjList object at 0x7f54a48695d0>\n",
            "Node :  Y\n",
            "Color :  Gray\n",
            "Distance :  3\n",
            "Phi :  <__main__.AdjList object at 0x7f54a48695d0>\n",
            "None\n",
            "Node :  U\n",
            "Color :  Black\n",
            "Distance :  4\n",
            "Phi :  <__main__.AdjList object at 0x7f54a4869b10>\n",
            "Node :  Y\n",
            "Color :  Gray\n",
            "Distance :  4\n",
            "Phi :  <__main__.AdjList object at 0x7f54a4869b10>\n",
            "None\n"
          ]
        }
      ]
    },
    {
      "cell_type": "markdown",
      "source": [
        "# **Depth-first Search**"
      ],
      "metadata": {
        "id": "lKbJY13xxrGj"
      }
    },
    {
      "cell_type": "code",
      "source": [
        "graph_element_dfs = {\n",
        "    'U' : ['V' , 'X'],\n",
        "    'V' : ['Y'],\n",
        "    'X' : ['V'],\n",
        "    'Y' : ['X'],\n",
        "    'W' : ['Y' , 'Z'],\n",
        "    'Z' : ['Z']\n",
        "}\n",
        "print(graph_element_dfs)"
      ],
      "metadata": {
        "colab": {
          "base_uri": "https://localhost:8080/"
        },
        "id": "cRTc6Jh3yGxj",
        "outputId": "235486f7-c335-4f4c-82e6-ea47024caff9"
      },
      "execution_count": 114,
      "outputs": [
        {
          "output_type": "stream",
          "name": "stdout",
          "text": [
            "{'U': ['V', 'X'], 'V': ['Y'], 'X': ['V'], 'Y': ['X'], 'W': ['Y', 'Z'], 'Z': ['Z']}\n"
          ]
        }
      ]
    },
    {
      "cell_type": "code",
      "source": [
        "listGraph = LinkedListGraph()\n",
        "vertex = {}\n",
        "for v in graph_element.keys():\n",
        "  listGraph = LinkedListGraph()\n",
        "  listGraph.insertData(v)\n",
        "  for u in graph_element[v]:\n",
        "    listGraph.insertData(u)\n",
        "  vertex[v] = listGraph"
      ],
      "metadata": {
        "id": "e9DVpuw9yKnq"
      },
      "execution_count": null,
      "outputs": []
    },
    {
      "cell_type": "markdown",
      "source": [
        "# **Best-search Algorithm**"
      ],
      "metadata": {
        "id": "b_9-Loq4RliE"
      }
    },
    {
      "cell_type": "code",
      "source": [
        "from queue import PriorityQueue"
      ],
      "metadata": {
        "id": "cwo6ooSrRklU"
      },
      "execution_count": null,
      "outputs": []
    },
    {
      "cell_type": "code",
      "source": [
        "v = 14\n",
        "graph = [[] for i in range(v)]\n",
        "print(graph)"
      ],
      "metadata": {
        "id": "hLs5ro6XUH5X"
      },
      "execution_count": null,
      "outputs": []
    },
    {
      "cell_type": "code",
      "source": [
        "def do_search(node_awal , node_akhir , n):\n",
        "  # visited adalah array yang berisi status node \n",
        "  # Status node diawal dianggap false yang artinya belum dilintasi \n",
        "  visited = [False] * n\n",
        "  \n",
        "  # Membuat data struktur queue \n",
        "  pq = PriorityQueue()\n",
        "\n",
        "  # Taruh awal node awal ke dalam queue dan nilai heuristic adalah 0\n",
        "  pq.put((0 , node_awal))\n",
        "  # index 0 atau node 0 telah dilintasi maka diubah status menjadi True\n",
        "  visited[node_awal] = True\n",
        "\n",
        "  # Melakukan loop hingga queue kosong\n",
        "  while pq.empty() == False:\n",
        "    print(pq.queue)\n",
        "    u = pq.get()[1]\n",
        "    print(u , end=\" \")\n",
        "    print()\n",
        "    #Jika node awal terlah mencapai node akhir\n",
        "    if u == node_akhir:\n",
        "      break\n",
        "    \n",
        "    #Loop untuk menambahkan node yang belum dilintasi\n",
        "    min = -1\n",
        "    for v , c in graph[u]:\n",
        "      print(\"V : \" , v)\n",
        "      print(\"C : \" , c)\n",
        "      if visited[v] == False:\n",
        "        if \n",
        "        visited[v] = True\n",
        "        pq.put((c , v))\n",
        "      \n",
        "    print()\n",
        "    \n"
      ],
      "metadata": {
        "id": "TKO8TLxuURZC"
      },
      "execution_count": null,
      "outputs": []
    },
    {
      "cell_type": "markdown",
      "source": [
        "**Fungsi menambahkan lintasan antar node**"
      ],
      "metadata": {
        "id": "w149L4vEWGkN"
      }
    },
    {
      "cell_type": "code",
      "source": [
        "def addedge(x , y , cost):\n",
        "  graph[x].append((y , cost))\n",
        "  graph[y].append((x , cost))"
      ],
      "metadata": {
        "id": "RuaUMQM7WCcY"
      },
      "execution_count": null,
      "outputs": []
    },
    {
      "cell_type": "markdown",
      "source": [
        "**Menambahkan lintasan antar node**\n",
        "<br>\n",
        "**Antar node memiliki nilai. Nilai tersebut adalah heuristic nilai**"
      ],
      "metadata": {
        "id": "6k0sJ-fWWmNz"
      }
    },
    {
      "cell_type": "code",
      "source": [
        "addedge(0, 1, 3)\n",
        "addedge(0, 2, 6)\n",
        "addedge(0, 3, 5)\n",
        "addedge(1, 4, 9)\n",
        "addedge(1, 5, 8)\n",
        "addedge(2, 6, 12)\n",
        "addedge(2, 7, 14)\n",
        "addedge(3, 8, 7)\n",
        "addedge(8, 9, 5)\n",
        "addedge(8, 10, 6)\n",
        "addedge(9, 11, 1)\n",
        "addedge(9, 12, 10)\n",
        "addedge(9, 13, 2)\n",
        " "
      ],
      "metadata": {
        "id": "Bw2TJk_DWYYx"
      },
      "execution_count": null,
      "outputs": []
    },
    {
      "cell_type": "code",
      "source": [
        "source = 0 # Node awal adalah 0\n",
        "target = 9 # Node akhir adalah 9\n",
        "do_search(source , target , v) "
      ],
      "metadata": {
        "id": "pBXW_HCRXMvl"
      },
      "execution_count": null,
      "outputs": []
    },
    {
      "cell_type": "markdown",
      "source": [
        "# **A* Search Algorithm**"
      ],
      "metadata": {
        "id": "6MtYomTyzGuz"
      }
    },
    {
      "cell_type": "markdown",
      "source": [
        "**Setiap node memiliki nilai**\n",
        "**Antara node memiliki nilai**"
      ],
      "metadata": {
        "id": "PKOQUfIB2KJ5"
      }
    },
    {
      "cell_type": "code",
      "execution_count": null,
      "metadata": {
        "id": "qc4_S9XdzA-W"
      },
      "outputs": [],
      "source": [
        ""
      ]
    }
  ]
}