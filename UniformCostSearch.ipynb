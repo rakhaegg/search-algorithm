{
  "nbformat": 4,
  "nbformat_minor": 0,
  "metadata": {
    "colab": {
      "name": "UniformCostSearch.ipynb",
      "provenance": [],
      "collapsed_sections": [],
      "authorship_tag": "ABX9TyOiol4eOIAfw/Ahjzo3TBvr",
      "include_colab_link": true
    },
    "kernelspec": {
      "name": "python3",
      "display_name": "Python 3"
    },
    "language_info": {
      "name": "python"
    }
  },
  "cells": [
    {
      "cell_type": "markdown",
      "metadata": {
        "id": "view-in-github",
        "colab_type": "text"
      },
      "source": [
        "<a href=\"https://colab.research.google.com/github/rakhaegg/search-algorithm/blob/main/UniformCostSearch.ipynb\" target=\"_parent\"><img src=\"https://colab.research.google.com/assets/colab-badge.svg\" alt=\"Open In Colab\"/></a>"
      ]
    },
    {
      "cell_type": "markdown",
      "source": [
        "# **Linked List Representation**"
      ],
      "metadata": {
        "id": "NO04Wj_EbuhG"
      }
    },
    {
      "cell_type": "code",
      "execution_count": 1,
      "metadata": {
        "colab": {
          "base_uri": "https://localhost:8080/"
        },
        "id": "BGzRKFZibeuf",
        "outputId": "7efbe268-96f4-46f8-903c-37c5e2a9549f"
      },
      "outputs": [
        {
          "output_type": "stream",
          "name": "stdout",
          "text": [
            "{'Arad': {'Zerind': 75, 'Sibiu': 140, 'Timisoara': 118}, 'Zerind': {'Oradea': 71}, 'Timisoara': {'Lugoj': 111}, 'Sibiu': {'Fagaras': 99, 'Rimminicu Vilcea': 80}, 'Oradea': {'Sibiu': 151}, 'Lugoj': {'Mehadia': 70}, 'Mehadia': {'Drobeta': 75}, 'Drobeta': {'Craiova': 120}, 'Craiova': {'Pitesti': 138}, 'Rimminicu Vilcea': {'Craiova': 146, 'Pitesti': 97}, 'Pitesti': {'Bucharest': 101}, 'Fagaras': {'Bucharest': 211}, 'Bucharest': {'Bucharest': 0}}\n"
          ]
        }
      ],
      "source": [
        "problem_bfs = {\n",
        "    'Arad' : {\n",
        "              'Zerind' : 75,\n",
        "              'Sibiu' : 140,\n",
        "              'Timisoara' : 118\n",
        "              },\n",
        "    'Zerind' : {\n",
        "                'Oradea' : 71\n",
        "              },\n",
        "    'Timisoara' : {\n",
        "                'Lugoj' : 111\n",
        "                },\n",
        "    'Sibiu' : {\n",
        "        'Fagaras' : 99,\n",
        "        'Rimminicu Vilcea' : 80\n",
        "    },\n",
        "    'Oradea' : {\n",
        "        'Sibiu' : 151\n",
        "    },\n",
        "    'Lugoj' : {\n",
        "        'Mehadia' : 70\n",
        "    },\n",
        "    'Mehadia' :{\n",
        "        'Drobeta' : 75\n",
        "    },\n",
        "    'Drobeta' :{\n",
        "        'Craiova' : 120\n",
        "    },\n",
        "    'Craiova' : {\n",
        "        'Pitesti' : 138\n",
        "    },\n",
        "    'Rimminicu Vilcea' : {\n",
        "      'Craiova':146,\n",
        "      'Pitesti':97\n",
        "    },\n",
        "    'Pitesti' : {\n",
        "        'Bucharest' : 101\n",
        "    },\n",
        "    'Fagaras' : {\n",
        "      'Bucharest' : 211\n",
        "    },\n",
        "    'Bucharest' : {\n",
        "      'Bucharest' : 0 \n",
        "    }\n",
        "}\n",
        "print(problem_bfs)"
      ]
    },
    {
      "cell_type": "code",
      "source": [
        "problem_bfs_second = {\n",
        "    'Sibiu' : {\n",
        "        'Fagaras' : 99,\n",
        "        'Rimnicu Vilcea' : 80\n",
        "    },\n",
        "    'Fagaras' : {\n",
        "        'Bucharest' : 211\n",
        "    },\n",
        "    'Rimnicu Vilcea':{\n",
        "        'Pitesti' : 97\n",
        "    },\n",
        "    'Pitesti':{\n",
        "        'Bucharest' : 101\n",
        "    },\n",
        "    'Bucharest':{\n",
        "        'Bucharest ' : 0\n",
        "    }\n",
        "}\n",
        "print(problem_bfs_second)"
      ],
      "metadata": {
        "colab": {
          "base_uri": "https://localhost:8080/"
        },
        "id": "SNd27Qlyj2Yf",
        "outputId": "d9aae35a-7c39-4fbc-d4cc-c2314efc660a"
      },
      "execution_count": 86,
      "outputs": [
        {
          "output_type": "stream",
          "name": "stdout",
          "text": [
            "{'Sibiu': {'Fagaras': 99, 'Rimnicu Vilcea': 80}, 'Fagaras': {'Bucharest': 211}, 'Rimnicu Vilcea': {'Pitesti': 97}, 'Pitesti': {'Bucharest': 101}, 'Bucharest': {'Bucharest ': 0}}\n"
          ]
        }
      ]
    },
    {
      "cell_type": "code",
      "source": [
        "class State:\n",
        "  def __init__(self ,state , phi=None , cost=None , next=None  ):\n",
        "    self.state = state\n",
        "    self.phi = phi\n",
        "    self.cost = cost\n",
        "    self.next = next\n",
        "\n",
        "class LinkedList:\n",
        "  def __init__(self):\n",
        "    self.head = None\n",
        "  def insertData(self , state , cost):\n",
        "    newState = State(state=state , cost=cost)\n",
        "    if(self.head):\n",
        "      current = self.head\n",
        "      while(current.next):\n",
        "        current = current.next\n",
        "      current.next = newState\n",
        "    else:\n",
        "      self.head = newState\n",
        "  def getAllNode(self):\n",
        "    all_node = []\n",
        "    current = self.head\n",
        "    while(current):\n",
        "      all_node.append(current)\n",
        "      current = current.next\n",
        "    return all_node\n",
        "  # def setCost(self , state , cost):\n",
        "  #   current = self.head\n",
        "  #   while(current):\n",
        "  #     if(current.state == state):\n",
        "  #       current.cost = cost\n",
        "  #       break\n",
        "  #     current = current.next\n",
        "  # def getCost(self , state  , cost):\n",
        "  #   current = self.head\n",
        "  #   while(current):\n",
        "    \n",
        "  \n"
      ],
      "metadata": {
        "id": "J91CNCutb64v"
      },
      "execution_count": 67,
      "outputs": []
    },
    {
      "cell_type": "code",
      "source": [
        "from queue import Queue\n",
        "import sys\n",
        "from queue import PriorityQueue\n"
      ],
      "metadata": {
        "id": "Tzb1ES0Sc1f7"
      },
      "execution_count": 22,
      "outputs": []
    },
    {
      "cell_type": "code",
      "source": [
        "from types import MappingProxyType\n",
        "def uniform_cost_search(problem , source , goal):\n",
        "  final_linked_list= {}\n",
        "  for x in problem.keys():\n",
        "    form_state = LinkedList()\n",
        "    form_state.insertData(state= x , cost=0)\n",
        "    for y in problem[x]:  \n",
        "      form_state.insertData(state=y , cost=problem[x][y])\n",
        "    final_linked_list[x] = form_state\n",
        "\n",
        "  frontier = PriorityQueue()\n",
        "  for x in final_linked_list.keys():\n",
        "    if x == source:\n",
        "      frontier.put((final_linked_list[x].head.cost , final_linked_list[x].head.state , \n",
        "                    final_linked_list[x].head.phi))\n",
        "  \n",
        " \n",
        "  max = sys.maxsize\n",
        "  explored = []\n",
        "  while frontier.qsize() != 0:\n",
        "    u = frontier.get() # Mendatpakan node yang paling kecil\n",
        "    print(\"Frontier : \" , u[1])\n",
        "    print(\"Froniter Cost : \" , u[0])\n",
        "    if u[1]== goal:\n",
        "        print(\"asdas\")\n",
        "        return explored\n",
        "    print(frontier.qsize())\n",
        "    print(final_linked_list[u[1]].head.state)\n",
        "    final_linked_list[u[1]].head.cost = u[0]\n",
        "    final_linked_list[u[1]].head.phi = u[2]\n",
        "    curr = final_linked_list[u[1]].head\n",
        "    \n",
        "    child = curr.next\n",
        "    explored.append(curr)\n",
        "    while(child):\n",
        "      if child not in explored:\n",
        "        child.cost = child.cost + curr.cost\n",
        "        child.phi = curr\n",
        "        explored.append(child)\n",
        "        print(\"NODE  : \" , child.state)\n",
        "        print(\"COST : \" , child.cost)\n",
        "        frontier.put((child.cost , child.state , child.phi))\n",
        "      \n",
        "      child = child.next\n",
        "\n"
      ],
      "metadata": {
        "id": "xYONn_5gn2zk"
      },
      "execution_count": 108,
      "outputs": []
    },
    {
      "cell_type": "code",
      "source": [
        "list_solution = uniform_cost_search(problem_bfs_second , \"Sibiu\" , \"Bucharest\")\n",
        "result = list_solution[-1]\n",
        "print()\n",
        "while(result):\n",
        "  print(result.state)\n",
        "  result = result.phi"
      ],
      "metadata": {
        "colab": {
          "base_uri": "https://localhost:8080/"
        },
        "id": "a408aWC2owp-",
        "outputId": "3704a5e6-e3fd-4f18-aa1f-09d50b6d94b2"
      },
      "execution_count": 111,
      "outputs": [
        {
          "output_type": "stream",
          "name": "stdout",
          "text": [
            "Frontier :  Sibiu\n",
            "Froniter Cost :  0\n",
            "0\n",
            "Sibiu\n",
            "NODE  :  Fagaras\n",
            "COST :  99\n",
            "NODE  :  Rimnicu Vilcea\n",
            "COST :  80\n",
            "Frontier :  Rimnicu Vilcea\n",
            "Froniter Cost :  80\n",
            "1\n",
            "Rimnicu Vilcea\n",
            "NODE  :  Pitesti\n",
            "COST :  177\n",
            "Frontier :  Fagaras\n",
            "Froniter Cost :  99\n",
            "1\n",
            "Fagaras\n",
            "NODE  :  Bucharest\n",
            "COST :  310\n",
            "Frontier :  Pitesti\n",
            "Froniter Cost :  177\n",
            "1\n",
            "Pitesti\n",
            "NODE  :  Bucharest\n",
            "COST :  278\n",
            "Frontier :  Bucharest\n",
            "Froniter Cost :  278\n",
            "asdas\n",
            "\n",
            "Bucharest\n",
            "Pitesti\n",
            "Rimnicu Vilcea\n",
            "Sibiu\n"
          ]
        }
      ]
    },
    {
      "cell_type": "markdown",
      "source": [
        "**Algoritma Uniform-cost Search akan mengelilingi semua node untuk menghitung total cost yang akan menuju ke tujuan node**"
      ],
      "metadata": {
        "id": "LmbMKC_bp1jc"
      }
    },
    {
      "cell_type": "markdown",
      "source": [
        "**Pemilihan node untuk diexplore berdasarkan total cost**"
      ],
      "metadata": {
        "id": "cOkAhuqZqVtT"
      }
    },
    {
      "cell_type": "markdown",
      "source": [
        "**Total cost yang paling rendah akan menjadi prioritas untuk diexplore**"
      ],
      "metadata": {
        "id": "8J51SC9YqakL"
      }
    },
    {
      "cell_type": "code",
      "source": [
        ""
      ],
      "metadata": {
        "id": "O7F0iklAQ4ZR"
      },
      "execution_count": null,
      "outputs": []
    }
  ]
}